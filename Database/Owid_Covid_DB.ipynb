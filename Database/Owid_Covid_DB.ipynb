{
    "metadata": {
        "kernelspec": {
            "name": "SQL",
            "display_name": "SQL",
            "language": "sql"
        },
        "language_info": {
            "name": "sql",
            "version": ""
        }
    },
    "nbformat_minor": 2,
    "nbformat": 4,
    "cells": [
        {
            "cell_type": "markdown",
            "source": [
                "# Base de datos de ejemplo.\n",
                "\n",
                "Este libro de trabajo permite generar una base de datos, con contenido de ejemplo, tomados desde Our World In Data, relacionados con la información global acerca de la pandemia de COVID-19."
            ],
            "metadata": {
                "azdata_cell_guid": "fa77e7a4-f231-4041-926e-41d2d3471bbb"
            }
        },
        {
            "cell_type": "markdown",
            "source": [
                "## Importación de datos desde Our World in Data\n",
                "\n",
                "Descargar el archivo desde esta url. [https://covid.ourworldindata.org/data/owid-covid-data.csv](https://covid.ourworldindata.org/data/owid-covid-data.csv)  \n",
                "\n",
                "La estructura de los datos está descripta en: [https://github.com/owid/covid-19-data/blob/master/public/data/owid-covid-data.csv](https://github.com/owid/covid-19-data/blob/master/public/data/owid-covid-data.csv)"
            ],
            "metadata": {
                "azdata_cell_guid": "07c39f22-e4c4-4644-8928-1b99a5991cd3"
            }
        },
        {
            "cell_type": "markdown",
            "source": [
                "## Creación de una base de datos vacía."
            ],
            "metadata": {
                "azdata_cell_guid": "751f7d7b-9147-4c77-b311-d8450fa68978"
            }
        },
        {
            "cell_type": "code",
            "source": [
                "use master \r\n",
                "GO\r\n",
                "Create database [Owin Covid DemosDB]\r\n",
                "GO\r\n",
                "USE [Owin Covid DemosDB]\r\n",
                "GO"
            ],
            "metadata": {
                "azdata_cell_guid": "d59c57a1-d363-45e3-bf18-72f794c2bde8"
            },
            "outputs": [
                {
                    "output_type": "display_data",
                    "data": {
                        "text/html": "Commands completed successfully."
                    },
                    "metadata": {}
                },
                {
                    "output_type": "display_data",
                    "data": {
                        "text/html": "Commands completed successfully."
                    },
                    "metadata": {}
                },
                {
                    "output_type": "display_data",
                    "data": {
                        "text/html": "Commands completed successfully."
                    },
                    "metadata": {}
                },
                {
                    "output_type": "display_data",
                    "data": {
                        "text/html": "Total execution time: 00:00:00.692"
                    },
                    "metadata": {}
                }
            ],
            "execution_count": 132
        },
        {
            "cell_type": "markdown",
            "source": [
                "## Crear una tabla para importar los datos crudos."
            ],
            "metadata": {
                "azdata_cell_guid": "216121dc-f116-4d99-9d43-2b7b7fa623a5"
            }
        },
        {
            "cell_type": "code",
            "source": [
                "\r\n",
                "CREATE TABLE [OwidCovid.Raw](\r\n",
                "\t[iso_code] [nvarchar](max) NULL,\r\n",
                "\t[continent] [nvarchar](max) NULL,\r\n",
                "\t[location] [nvarchar](max) NULL,\r\n",
                "\t[date] [nvarchar](max) NULL,\r\n",
                "\t[total_cases] [nvarchar](max) NULL,\r\n",
                "\t[new_cases] [nvarchar](max) NULL,\r\n",
                "\t[new_cases_smoothed] [nvarchar](max) NULL,\r\n",
                "\t[total_deaths] [nvarchar](max) NULL,\r\n",
                "\t[new_deaths] [nvarchar](max) NULL,\r\n",
                "\t[new_deaths_smoothed] [nvarchar](max) NULL,\r\n",
                "\t[total_cases_per_million] [nvarchar](max) NULL,\r\n",
                "\t[new_cases_per_million] [nvarchar](max) NULL,\r\n",
                "\t[new_cases_smoothed_per_million] [nvarchar](max) NULL,\r\n",
                "\t[total_deaths_per_million] [nvarchar](max) NULL,\r\n",
                "\t[new_deaths_per_million] [nvarchar](max) NULL,\r\n",
                "\t[new_deaths_smoothed_per_million] [nvarchar](max) NULL,\r\n",
                "\t[reproduction_rate] [nvarchar](max) NULL,\r\n",
                "\t[icu_patients] [nvarchar](max) NULL,\r\n",
                "\t[icu_patients_per_million] [nvarchar](max) NULL,\r\n",
                "\t[hosp_patients] [nvarchar](max) NULL,\r\n",
                "\t[hosp_patients_per_million] [nvarchar](max) NULL,\r\n",
                "\t[weekly_icu_admissions] [nvarchar](max) NULL,\r\n",
                "\t[weekly_icu_admissions_per_million] [nvarchar](max) NULL,\r\n",
                "\t[weekly_hosp_admissions] [nvarchar](max) NULL,\r\n",
                "\t[weekly_hosp_admissions_per_million] [nvarchar](max) NULL,\r\n",
                "\t[new_tests] [nvarchar](max) NULL,\r\n",
                "\t[total_tests] [nvarchar](max) NULL,\r\n",
                "\t[total_tests_per_thousand] [nvarchar](max) NULL,\r\n",
                "\t[new_tests_per_thousand] [nvarchar](max) NULL,\r\n",
                "\t[new_tests_smoothed] [nvarchar](max) NULL,\r\n",
                "\t[new_tests_smoothed_per_thousand] [nvarchar](max) NULL,\r\n",
                "\t[positive_rate] [nvarchar](max) NULL,\r\n",
                "\t[tests_per_case] [nvarchar](max) NULL,\r\n",
                "\t[tests_units] [nvarchar](max) NULL,\r\n",
                "\t[total_vaccinations] [nvarchar](max) NULL,\r\n",
                "\t[people_vaccinated] [nvarchar](max) NULL,\r\n",
                "\t[people_fully_vaccinated] [nvarchar](max) NULL,\r\n",
                "\t[new_vaccinations] [nvarchar](max) NULL,\r\n",
                "\t[new_vaccinations_smoothed] [nvarchar](max) NULL,\r\n",
                "\t[total_vaccinations_per_hundred] [nvarchar](max) NULL,\r\n",
                "\t[people_vaccinated_per_hundred] [nvarchar](max) NULL,\r\n",
                "\t[people_fully_vaccinated_per_hundred] [nvarchar](max) NULL,\r\n",
                "\t[new_vaccinations_smoothed_per_million] [nvarchar](max) NULL,\r\n",
                "\t[stringency_index] [nvarchar](max) NULL,\r\n",
                "\t[population] [nvarchar](max) NULL,\r\n",
                "\t[population_density] [nvarchar](max) NULL,\r\n",
                "\t[median_age] [nvarchar](max) NULL,\r\n",
                "\t[aged_65_older] [nvarchar](max) NULL,\r\n",
                "\t[aged_70_older] [nvarchar](max) NULL,\r\n",
                "\t[gdp_per_capita] [nvarchar](max) NULL,\r\n",
                "\t[extreme_poverty] [nvarchar](max) NULL,\r\n",
                "\t[cardiovasc_death_rate] [nvarchar](max) NULL,\r\n",
                "\t[diabetes_prevalence] [nvarchar](max) NULL,\r\n",
                "\t[female_smokers] [nvarchar](max) NULL,\r\n",
                "\t[male_smokers] [nvarchar](max) NULL,\r\n",
                "\t[handwashing_facilities] [nvarchar](max) NULL,\r\n",
                "\t[hospital_beds_per_thousand] [nvarchar](max) NULL,\r\n",
                "\t[life_expectancy] [nvarchar](max) NULL,\r\n",
                "\t[human_development_index] [nvarchar](max) NULL,\r\n",
                "\t[excess_mortality] [nvarchar](max) NULL\r\n",
                ") ON [PRIMARY] TEXTIMAGE_ON [PRIMARY]\r\n",
                ""
            ],
            "metadata": {
                "azdata_cell_guid": "f5c3e3aa-906a-43df-8824-43803003d153"
            },
            "outputs": [
                {
                    "output_type": "display_data",
                    "data": {
                        "text/html": "Commands completed successfully."
                    },
                    "metadata": {}
                },
                {
                    "output_type": "display_data",
                    "data": {
                        "text/html": "Total execution time: 00:00:00.018"
                    },
                    "metadata": {}
                }
            ],
            "execution_count": 133
        },
        {
            "cell_type": "markdown",
            "source": [
                "## Crear una tabla intermedia de datos con tipos de datos convertidos"
            ],
            "metadata": {
                "azdata_cell_guid": "9280f60a-9128-4a38-9140-bb7337ab89ac"
            }
        },
        {
            "cell_type": "code",
            "source": [
                "\r\n",
                "CREATE TABLE [dbo].[OwidCovid.Source](\r\n",
                "\t[iso_code] [nvarchar](10) NULL,\r\n",
                "\t[continent] [nvarchar](50) NULL,\r\n",
                "\t[location] [nvarchar](150) NULL,\r\n",
                "\t[date] [smalldatetime] NOT NULL,\r\n",
                "\t[total_cases] [int] NULL,\r\n",
                "\t[new_cases] [int] NULL,\r\n",
                "\t[new_cases_smoothed] [decimal](18, 4) NULL,\r\n",
                "\t[total_deaths] [int] NULL,\r\n",
                "\t[new_deaths] [int] NULL,\r\n",
                "\t[new_deaths_smoothed] [decimal](18, 4) NULL,\r\n",
                "\t[total_cases_per_million] [decimal](18, 4) NULL,\r\n",
                "\t[new_cases_per_million] [decimal](18, 4) NULL,\r\n",
                "\t[new_cases_smoothed_per_million] [decimal](18, 4) NULL,\r\n",
                "\t[total_deaths_per_million] [decimal](18, 4) NULL,\r\n",
                "\t[new_deaths_per_million] [decimal](18, 4) NULL,\r\n",
                "\t[new_deaths_smoothed_per_million] [decimal](18, 4) NULL,\r\n",
                "\t[reproduction_rate] [decimal](18, 4) NULL,\r\n",
                "\t[icu_patients] [decimal](18, 4) NULL,\r\n",
                "\t[icu_patients_per_million] [decimal](18, 4) NULL,\r\n",
                "\t[hosp_patients] [decimal](18, 4) NULL,\r\n",
                "\t[hosp_patients_per_million] [decimal](18, 4) NULL,\r\n",
                "\t[weekly_icu_admissions] [decimal](18, 4) NULL,\r\n",
                "\t[weekly_icu_admissions_per_million] [decimal](18, 4) NULL,\r\n",
                "\t[weekly_hosp_admissions] [decimal](18, 4) NULL,\r\n",
                "\t[weekly_hosp_admissions_per_million] [decimal](18, 4) NULL,\r\n",
                "\t[new_tests] [decimal](18, 4) NULL,\r\n",
                "\t[total_tests] [decimal](18, 4) NULL,\r\n",
                "\t[total_tests_per_thousand] [decimal](18, 4) NULL,\r\n",
                "\t[new_tests_per_thousand] [decimal](18, 4) NULL,\r\n",
                "\t[new_tests_smoothed] [decimal](18, 4) NULL,\r\n",
                "\t[new_tests_smoothed_per_thousand] [decimal](18, 4) NULL,\r\n",
                "\t[positive_rate] [decimal](18, 4) NULL,\r\n",
                "\t[tests_per_case] [decimal](18, 4) NULL,\r\n",
                "\t[tests_units] [nvarchar](max) NULL,\r\n",
                "\t[total_vaccinations] [bigint] NULL,\r\n",
                "\t[people_vaccinated] [bigint] NULL,\r\n",
                "\t[people_fully_vaccinated] [bigint] NULL,\r\n",
                "\t[new_vaccinations] [decimal](18, 4) NULL,\r\n",
                "\t[new_vaccinations_smoothed] [decimal](18, 4) NULL,\r\n",
                "\t[total_vaccinations_per_hundred] [decimal](18, 4) NULL,\r\n",
                "\t[people_vaccinated_per_hundred] [decimal](18, 4) NULL,\r\n",
                "\t[people_fully_vaccinated_per_hundred] [decimal](18, 4) NULL,\r\n",
                "\t[new_vaccinations_smoothed_per_million] [decimal](18, 4) NULL,\r\n",
                "\t[stringency_index] [decimal](18, 4) NULL,\r\n",
                "\t[population] [bigint] NULL,\r\n",
                "\t[population_density] [decimal](18, 4) NULL,\r\n",
                "\t[median_age] [decimal](18, 4) NULL,\r\n",
                "\t[aged_65_older] [decimal](18, 4) NULL,\r\n",
                "\t[aged_70_older] [decimal](18, 4) NULL,\r\n",
                "\t[gdp_per_capita] [decimal](18, 4) NULL,\r\n",
                "\t[extreme_poverty] [decimal](18, 4) NULL,\r\n",
                "\t[cardiovasc_death_rate] [decimal](18, 4) NULL,\r\n",
                "\t[diabetes_prevalence] [decimal](18, 4) NULL,\r\n",
                "\t[female_smokers] [decimal](18, 4) NULL,\r\n",
                "\t[male_smokers] [decimal](18, 4) NULL,\r\n",
                "\t[handwashing_facilities] [decimal](18, 4) NULL,\r\n",
                "\t[hospital_beds_per_thousand] [decimal](18, 4) NULL,\r\n",
                "\t[life_expectancy] [decimal](18, 4) NULL,\r\n",
                "\t[human_development_index] [decimal](18, 4) NULL,\r\n",
                "\t[excess_mortality] [decimal](18, 4) NULL\r\n",
                ") ON [PRIMARY] TEXTIMAGE_ON [PRIMARY]\r\n",
                ""
            ],
            "metadata": {
                "azdata_cell_guid": "e6217580-d782-41d2-b8c3-5f328d742864"
            },
            "outputs": [
                {
                    "output_type": "display_data",
                    "data": {
                        "text/html": "Commands completed successfully."
                    },
                    "metadata": {}
                },
                {
                    "output_type": "display_data",
                    "data": {
                        "text/html": "Total execution time: 00:00:00.034"
                    },
                    "metadata": {}
                }
            ],
            "execution_count": 134
        },
        {
            "cell_type": "markdown",
            "source": [
                "## Importar los datos desde el achivo CSV."
            ],
            "metadata": {
                "azdata_cell_guid": "e9753bb8-1aaa-4f8d-ac16-64482e0fe86e"
            }
        },
        {
            "cell_type": "code",
            "source": [
                "TRUNCATE TABLE [dbo].[OwidCovid.Raw];\r\n",
                "-- Cambiar el origen del archivo al que corresponda en su equipo Change the source file path to your computer path\r\n",
                "\r\n",
                "BULK INSERT [dbo].[OwidCovid.Raw] FROM '/tmp/owid-covid-data.csv' WITH(FIRSTROW = 2, FORMAT = 'CSV');"
            ],
            "metadata": {
                "azdata_cell_guid": "ef98a904-28ec-495a-a6ed-13e24de6123f"
            },
            "outputs": [
                {
                    "output_type": "display_data",
                    "data": {
                        "text/html": "(94861 rows affected)"
                    },
                    "metadata": {}
                },
                {
                    "output_type": "display_data",
                    "data": {
                        "text/html": "Total execution time: 00:00:10.229"
                    },
                    "metadata": {}
                }
            ],
            "execution_count": 135
        },
        {
            "cell_type": "markdown",
            "source": [
                "## Copiar los datos a la tabla source, convirtiendo tipos de datos"
            ],
            "metadata": {
                "azdata_cell_guid": "cd78a9da-87b8-4cfb-acb7-dd0af03950b1"
            }
        },
        {
            "cell_type": "code",
            "source": [
                "INSERT INTO [dbo].[OwidCovid.Source]\r\n",
                "       SELECT \r\n",
                "           [iso_code]\r\n",
                "         , [continent]\r\n",
                "         , [location]\r\n",
                "         , CONVERT(SMALLDATETIME, [date])\r\n",
                "         , CONVERT(INT, CAST([total_cases] AS DECIMAL))\r\n",
                "         , CONVERT(INT, CAST([new_cases] AS DECIMAL))\r\n",
                "         , CAST([new_cases_smoothed] AS DECIMAL)\r\n",
                "         , CONVERT(INT, CAST([total_deaths] AS DECIMAL))\r\n",
                "         , CONVERT(INT, CAST([new_deaths] AS DECIMAL))\r\n",
                "         , CAST([new_deaths_smoothed] AS DECIMAL)\r\n",
                "         , CAST([total_cases_per_million] AS DECIMAL)\r\n",
                "         , CAST([new_cases_per_million] AS DECIMAL)\r\n",
                "         , CAST([new_cases_smoothed_per_million] AS DECIMAL)\r\n",
                "         , CAST([total_deaths_per_million] AS DECIMAL)\r\n",
                "         , CAST([new_deaths_per_million] AS DECIMAL)\r\n",
                "         , CAST([new_deaths_smoothed_per_million] AS DECIMAL)\r\n",
                "         , CAST([reproduction_rate] AS DECIMAL)\r\n",
                "         , CAST([icu_patients] AS DECIMAL)\r\n",
                "         , CAST([icu_patients_per_million] AS DECIMAL)\r\n",
                "         , CAST([hosp_patients] AS DECIMAL)\r\n",
                "         , CAST([hosp_patients_per_million] AS DECIMAL)\r\n",
                "         , CAST([weekly_icu_admissions] AS DECIMAL)\r\n",
                "         , CAST([weekly_icu_admissions_per_million] AS DECIMAL)\r\n",
                "         , CAST([weekly_hosp_admissions] AS DECIMAL)\r\n",
                "         , CAST([weekly_hosp_admissions_per_million] AS DECIMAL)\r\n",
                "         , CONVERT(INT, CAST([new_tests] AS DECIMAL))\r\n",
                "         , CONVERT(INT, CAST([total_tests] AS DECIMAL))\r\n",
                "         , CAST([total_tests_per_thousand] AS DECIMAL)\r\n",
                "         , CAST([new_tests_per_thousand] AS DECIMAL)\r\n",
                "         , CAST([new_tests_smoothed] AS DECIMAL)\r\n",
                "         , CAST([new_tests_smoothed_per_thousand] AS DECIMAL)\r\n",
                "         , CAST([positive_rate] AS DECIMAL)\r\n",
                "         , CAST([tests_per_case] AS DECIMAL)\r\n",
                "         , [tests_units]\r\n",
                "         , CONVERT(BIGINT, CAST([total_vaccinations] AS DECIMAL))\r\n",
                "         , CONVERT(BIGINT, CAST([people_vaccinated] AS DECIMAL))\r\n",
                "         , CONVERT(BIGINT, CAST([people_fully_vaccinated] AS DECIMAL))\r\n",
                "         , CONVERT(INT, CAST([new_vaccinations] AS DECIMAL))\r\n",
                "         , CAST([new_vaccinations_smoothed] AS DECIMAL)\r\n",
                "         , CAST([total_vaccinations_per_hundred] AS DECIMAL)\r\n",
                "         , CAST([people_vaccinated_per_hundred] AS DECIMAL)\r\n",
                "         , CAST([people_fully_vaccinated_per_hundred] AS DECIMAL)\r\n",
                "         , CAST([new_vaccinations_smoothed_per_million] AS DECIMAL)\r\n",
                "         , CAST([stringency_index] AS DECIMAL)\r\n",
                "         , CONVERT(BIGINT, CAST([population] AS DECIMAL))\r\n",
                "         , CAST([population_density] AS DECIMAL)\r\n",
                "         , CAST([median_age] AS DECIMAL)\r\n",
                "         , CAST([aged_65_older] AS DECIMAL)\r\n",
                "         , CAST([aged_70_older] AS DECIMAL)\r\n",
                "         , CAST([gdp_per_capita] AS DECIMAL)\r\n",
                "         , CAST([extreme_poverty] AS DECIMAL)\r\n",
                "         , CAST([cardiovasc_death_rate] AS DECIMAL)\r\n",
                "         , CAST([diabetes_prevalence] AS DECIMAL)\r\n",
                "         , CAST([female_smokers] AS DECIMAL)\r\n",
                "         , CAST([male_smokers] AS DECIMAL)\r\n",
                "         , CAST([handwashing_facilities] AS DECIMAL)\r\n",
                "         , CAST([hospital_beds_per_thousand] AS DECIMAL)\r\n",
                "         , CAST([life_expectancy] AS DECIMAL)\r\n",
                "         , CAST([human_development_index] AS DECIMAL)\r\n",
                "         , CAST([excess_mortality] AS DECIMAL)\r\n",
                "       FROM \r\n",
                "          [dbo].[OwidCovid.Raw];"
            ],
            "metadata": {
                "azdata_cell_guid": "55b89c45-d90e-4609-a387-d2a5fd053319"
            },
            "outputs": [
                {
                    "output_type": "display_data",
                    "data": {
                        "text/html": "(94861 rows affected)"
                    },
                    "metadata": {}
                },
                {
                    "output_type": "display_data",
                    "data": {
                        "text/html": "Total execution time: 00:00:04.451"
                    },
                    "metadata": {}
                }
            ],
            "execution_count": 136
        },
        {
            "cell_type": "markdown",
            "source": [
                "## Crea la tabla Continents para los nombres de los continentes."
            ],
            "metadata": {
                "azdata_cell_guid": "d7f1727e-2535-41cf-8ead-391dbe759507"
            }
        },
        {
            "cell_type": "code",
            "source": [
                "CREATE TABLE [dbo].[Continents]\r\n",
                " (\r\n",
                "   [Id]         [INT] IDENTITY(1, 1) NOT NULL\r\n",
                " , [Continent]  [NVARCHAR](50) NOT NULL\r\n",
                " , CONSTRAINT [PK_Continents] PRIMARY KEY CLUSTERED([Id] ASC)\r\n",
                ");\r\n",
                ""
            ],
            "metadata": {
                "azdata_cell_guid": "cebe9ba1-0d06-4297-aced-19241cb8fe57"
            },
            "outputs": [
                {
                    "output_type": "display_data",
                    "data": {
                        "text/html": "Commands completed successfully."
                    },
                    "metadata": {}
                },
                {
                    "output_type": "display_data",
                    "data": {
                        "text/html": "Total execution time: 00:00:00.015"
                    },
                    "metadata": {}
                }
            ],
            "execution_count": 137
        },
        {
            "cell_type": "markdown",
            "source": [
                "## Asigna los nombres de continentes faltantes.\n",
                "\n",
                "En las entradas que corresponden a total de continente, el nombre del continente está en la columna location."
            ],
            "metadata": {
                "azdata_cell_guid": "5d6b5556-4820-4e73-85eb-fd9f63632191"
            }
        },
        {
            "cell_type": "code",
            "source": [
                "UPDATE       [OwidCovid.Source]\r\n",
                "SET                continent = location\r\n",
                "WHERE        (continent IS NULL)"
            ],
            "metadata": {
                "azdata_cell_guid": "c7256c52-f962-4b2d-9cad-aad0d98c1e15"
            },
            "outputs": [
                {
                    "output_type": "display_data",
                    "data": {
                        "text/html": "(4480 rows affected)"
                    },
                    "metadata": {}
                },
                {
                    "output_type": "display_data",
                    "data": {
                        "text/html": "Total execution time: 00:00:00.140"
                    },
                    "metadata": {}
                }
            ],
            "execution_count": 138
        },
        {
            "cell_type": "markdown",
            "source": [
                "## Obtiene los diferentes nombres de los continentes y agrega los correspondientes registros en la tabla"
            ],
            "metadata": {
                "azdata_cell_guid": "ff62db63-b61e-40cf-b4df-639bf55acbe1"
            }
        },
        {
            "cell_type": "code",
            "source": [
                "/*\r\n",
                "La columna 'continent' tiene valor nulo cuando es un total\r\n",
                "The 'continent' column as null value when it is a total\r\n",
                "*/\r\n",
                "\r\n",
                "INSERT INTO [dbo].[Continents]\r\n",
                " (\r\n",
                "    [Continent]\r\n",
                " )\r\n",
                "       SELECT \r\n",
                "           ISNULL([continent], 'World') AS [Continent]\r\n",
                "       FROM \r\n",
                "          [OwidCovid.Source]\r\n",
                "       GROUP BY \r\n",
                "           [continent];"
            ],
            "metadata": {
                "azdata_cell_guid": "9285f249-2c53-4c99-a7d8-fccd66ff414d"
            },
            "outputs": [
                {
                    "output_type": "display_data",
                    "data": {
                        "text/html": "(9 rows affected)"
                    },
                    "metadata": {}
                },
                {
                    "output_type": "display_data",
                    "data": {
                        "text/html": "Total execution time: 00:00:00.034"
                    },
                    "metadata": {}
                }
            ],
            "execution_count": 139
        },
        {
            "cell_type": "markdown",
            "source": [
                "## Agregamos una columna de identificador de Continente a la tabla de datos."
            ],
            "metadata": {
                "azdata_cell_guid": "12af761f-0d05-4c58-a0bb-57bf37868da7"
            }
        },
        {
            "cell_type": "code",
            "source": [
                "ALTER TABLE [dbo].[OwidCovid.Source]\r\n",
                "ADD \r\n",
                "    [ContinentId]  INT NOT NULL\r\n",
                "                       DEFAULT 0;\r\n",
                "GO"
            ],
            "metadata": {
                "azdata_cell_guid": "0a38671f-67b3-43a4-b0f0-d56e4201fd9f"
            },
            "outputs": [
                {
                    "output_type": "display_data",
                    "data": {
                        "text/html": "Commands completed successfully."
                    },
                    "metadata": {}
                },
                {
                    "output_type": "display_data",
                    "data": {
                        "text/html": "Total execution time: 00:00:00.022"
                    },
                    "metadata": {}
                }
            ],
            "execution_count": 140
        },
        {
            "cell_type": "markdown",
            "source": [
                "## Asigna los valores de identificadores de continente a la tabla de datos."
            ],
            "metadata": {
                "azdata_cell_guid": "0eefeb7c-f9a0-4426-9968-5a99a895f98a"
            }
        },
        {
            "cell_type": "code",
            "source": [
                "UPDATE [OwidCovid.Source]\r\n",
                "  SET \r\n",
                "      [ContinentId] = [Continents].[Id]\r\n",
                "FROM [OwidCovid.Source]\r\n",
                "     INNER JOIN\r\n",
                "       [Continents]\r\n",
                "     ON [OwidCovid.Source].[continent] = [Continents].[Continent];"
            ],
            "metadata": {
                "azdata_cell_guid": "b80e025e-b6a4-404a-a772-e2b567d629c1"
            },
            "outputs": [
                {
                    "output_type": "display_data",
                    "data": {
                        "text/html": "(94861 rows affected)"
                    },
                    "metadata": {}
                },
                {
                    "output_type": "display_data",
                    "data": {
                        "text/html": "Total execution time: 00:00:01.074"
                    },
                    "metadata": {}
                }
            ],
            "execution_count": 141
        },
        {
            "cell_type": "markdown",
            "source": [
                "## Remueve la columna Continent, para usar siempre la tabla Continent."
            ],
            "metadata": {
                "azdata_cell_guid": "4403f8e0-0bf7-41b2-b2fb-59096c1b7d81"
            }
        },
        {
            "cell_type": "code",
            "source": [
                "ALTER TABLE [dbo].[OwidCovid.Source] DROP COLUMN [continent];\r\n",
                "GO"
            ],
            "metadata": {
                "azdata_cell_guid": "642b07c2-40c2-4150-885e-a9f2a897fb85"
            },
            "outputs": [
                {
                    "output_type": "display_data",
                    "data": {
                        "text/html": "Commands completed successfully."
                    },
                    "metadata": {}
                },
                {
                    "output_type": "display_data",
                    "data": {
                        "text/html": "Total execution time: 00:00:00.017"
                    },
                    "metadata": {}
                }
            ],
            "execution_count": 142
        },
        {
            "cell_type": "markdown",
            "source": [
                "## Crear tabla Países.\n",
                "\n",
                "Repetir los anteriores pasos, pero para crear una tabla de países y asignar los Id correspondientes."
            ],
            "metadata": {
                "azdata_cell_guid": "1a1ab809-0f08-42d1-827a-f168ef1aba21"
            }
        },
        {
            "cell_type": "code",
            "source": [
                "CREATE TABLE [dbo].[Countries]\r\n",
                " (\r\n",
                "   [Id]       [INT] IDENTITY(1, 1) NOT NULL\r\n",
                " , [Country]  [NVARCHAR](50) NOT NULL\r\n",
                " , CONSTRAINT [PK_Countries] PRIMARY KEY CLUSTERED([Id] ASC)\r\n",
                ");\r\n",
                "GO\r\n",
                "\r\n",
                "/* \r\n",
                "\tEl campo iso_code contiene valores que comienzan con 'OWID_' para datos globales.\r\n",
                "\tIso_code column starts with 'OWID_' when the row belogs to a summary\r\n",
                "*/\r\n",
                "\r\n",
                "INSERT INTO [dbo].[Countries]\r\n",
                " (\r\n",
                "    [Country]\r\n",
                " )\r\n",
                "       SELECT \r\n",
                "           [location]\r\n",
                "       FROM \r\n",
                "          [OwidCovid.Source]\r\n",
                "       WHERE(NOT([iso_code] LIKE N'OWID_%'))\r\n",
                "            OR ([iso_code] IS NULL)\r\n",
                "       GROUP BY \r\n",
                "           [location];\r\n",
                "GO\r\n",
                "\r\n",
                "ALTER TABLE [dbo].[OwidCovid.Source]\r\n",
                "ADD \r\n",
                "    [CountriesId]  INT NOT NULL\r\n",
                "                       DEFAULT 0;\r\n",
                "GO\r\n",
                "\r\n",
                "UPDATE [OwidCovid.Source]\r\n",
                "  SET \r\n",
                "      [CountriesId] = [id]\r\n",
                "FROM [OwidCovid.Source]\r\n",
                "     INNER JOIN\r\n",
                "       [Countries]\r\n",
                "     ON [OwidCovid.Source].[location] = [Countries].[Country];\r\n",
                "\r\n",
                "ALTER TABLE [dbo].[OwidCovid.Source] DROP COLUMN [location];\r\n",
                "GO"
            ],
            "metadata": {
                "azdata_cell_guid": "538bf1fd-468a-463e-8ffe-3294dd38831f"
            },
            "outputs": [
                {
                    "output_type": "display_data",
                    "data": {
                        "text/html": "Commands completed successfully."
                    },
                    "metadata": {}
                },
                {
                    "output_type": "display_data",
                    "data": {
                        "text/html": "(218 rows affected)"
                    },
                    "metadata": {}
                },
                {
                    "output_type": "display_data",
                    "data": {
                        "text/html": "Commands completed successfully."
                    },
                    "metadata": {}
                },
                {
                    "output_type": "display_data",
                    "data": {
                        "text/html": "(89793 rows affected)"
                    },
                    "metadata": {}
                },
                {
                    "output_type": "display_data",
                    "data": {
                        "text/html": "Total execution time: 00:00:01.325"
                    },
                    "metadata": {}
                }
            ],
            "execution_count": 143
        },
        {
            "cell_type": "markdown",
            "source": [
                "## Obtener los datos demograficos globales, que no varían día a día, en la tabla **OwidCountriesData**"
            ],
            "metadata": {
                "azdata_cell_guid": "655a29af-c06d-44a3-8d99-2bd9d96e9600"
            }
        },
        {
            "cell_type": "code",
            "source": [
                "SELECT DISTINCT \r\n",
                "    [ContinentId]\r\n",
                "  , [CountriesId]\r\n",
                "  , MAX([total_cases]) AS [total_cases]\r\n",
                "  , MAX([total_deaths]) AS [total_deaths]\r\n",
                "  , MAX([total_cases_per_million]) AS [total_cases_per_million]\r\n",
                "  , MAX([total_deaths_per_million]) AS [total_deaths_per_million]\r\n",
                "  , MAX([reproduction_rate]) AS [reproduction_rate]\r\n",
                "  , MAX([icu_patients]) AS [icu_patients]\r\n",
                "  , MAX([icu_patients_per_million]) AS [icu_patients_per_million]\r\n",
                "  , MAX([hosp_patients]) AS [hosp_patients]\r\n",
                "  , MAX([hosp_patients_per_million]) AS [hosp_patients_per_million]\r\n",
                "  , MAX([weekly_icu_admissions]) AS [weekly_icu_admissions]\r\n",
                "  , MAX([weekly_icu_admissions_per_million]) AS [weekly_icu_admissions_per_million]\r\n",
                "  , MAX([weekly_hosp_admissions]) AS [weekly_hosp_admissions]\r\n",
                "  , MAX([weekly_hosp_admissions_per_million]) AS [weekly_hosp_admissions_per_million]\r\n",
                "  , MAX([new_tests]) AS [new_tests]\r\n",
                "  , MAX([total_tests]) AS [total_tests]\r\n",
                "  , MAX([total_tests_per_thousand]) AS [total_tests_per_thousand]\r\n",
                "  , MAX([new_tests_per_thousand]) AS [new_tests_per_thousand]\r\n",
                "  , MAX([new_tests_smoothed]) AS [new_tests_smoothed]\r\n",
                "  , MAX([new_tests_smoothed_per_thousand]) AS [new_tests_smoothed_per_thousand]\r\n",
                "  , MAX([positive_rate]) AS [positive_rate]\r\n",
                "  , MAX([total_vaccinations]) AS [total_vaccinations]\r\n",
                "  , MAX([people_vaccinated]) AS [people_vaccinated]\r\n",
                "  , MAX([people_fully_vaccinated]) AS [people_fully_vaccinated]\r\n",
                "  , MAX([total_vaccinations_per_hundred]) AS [total_vaccinations_per_hundred]\r\n",
                "  , MAX([people_vaccinated_per_hundred]) AS [people_vaccinated_per_hundred]\r\n",
                "  , MAX([people_fully_vaccinated_per_hundred]) AS [people_fully_vaccinated_per_hundred]\r\n",
                "  , MAX([stringency_index]) AS [stringency_index]\r\n",
                "  , MAX([population]) AS [population]\r\n",
                "  , MAX([population_density]) AS [population_density]\r\n",
                "  , MAX([median_age]) AS [median_age]\r\n",
                "  , MAX([aged_65_older]) AS [aged_65_older]\r\n",
                "  , MAX([aged_70_older]) AS [aged_70_older]\r\n",
                "  , MAX([gdp_per_capita]) AS [gdp_per_capita]\r\n",
                "  , MAX([extreme_poverty]) AS [extreme_poverty]\r\n",
                "  , MAX([cardiovasc_death_rate]) AS [cardiovasc_death_rate]\r\n",
                "  , MAX([diabetes_prevalence]) AS [diabetes_prevalence]\r\n",
                "  , MAX([female_smokers]) AS [female_smokers]\r\n",
                "  , MAX([male_smokers]) AS [male_smokers]\r\n",
                "  , MAX([handwashing_facilities]) AS [handwashing_facilities]\r\n",
                "  , MAX([hospital_beds_per_thousand]) AS [hospital_beds_per_thousand]\r\n",
                "  , MAX([life_expectancy]) AS [life_expectancy]\r\n",
                "  , MAX([human_development_index]) AS [human_development_index]\r\n",
                "  , MAX([excess_mortality]) AS [excess_mortality]\r\n",
                "INTO \r\n",
                "    [OwidCountriesData]\r\n",
                "FROM \r\n",
                "   [OwidCovid.Source]\r\n",
                "GROUP BY \r\n",
                "    [ContinentId]\r\n",
                "  , [CountriesId];"
            ],
            "metadata": {
                "azdata_cell_guid": "1e4ae48a-ccf7-4e60-9243-ad7152c4b589"
            },
            "outputs": [
                {
                    "output_type": "display_data",
                    "data": {
                        "text/html": "Warning: Null value is eliminated by an aggregate or other SET operation."
                    },
                    "metadata": {}
                },
                {
                    "output_type": "display_data",
                    "data": {
                        "text/html": "(227 rows affected)"
                    },
                    "metadata": {}
                },
                {
                    "output_type": "display_data",
                    "data": {
                        "text/html": "Total execution time: 00:00:00.391"
                    },
                    "metadata": {}
                }
            ],
            "execution_count": 144
        },
        {
            "cell_type": "markdown",
            "source": [
                "## Exportamos a la tabla , **Owid Covid Data**, los datos diarios de casos y vacunaciones COVID"
            ],
            "metadata": {
                "azdata_cell_guid": "cbce1f65-3887-462c-a126-42ed0bf95d05"
            }
        },
        {
            "cell_type": "code",
            "source": [
                "SELECT \r\n",
                "    [ContinentId]\r\n",
                "  , [CountriesId]\r\n",
                "  , date\r\n",
                "  , [total_cases]\r\n",
                "  , [new_cases]\r\n",
                "  , [new_cases_smoothed]\r\n",
                "  , [total_deaths]\r\n",
                "  , [new_deaths]\r\n",
                "  , [new_deaths_smoothed]\r\n",
                "  , [total_cases_per_million]\r\n",
                "  , [new_cases_per_million]\r\n",
                "  , [new_cases_smoothed_per_million]\r\n",
                "  , [total_deaths_per_million]\r\n",
                "  , [new_deaths_per_million]\r\n",
                "  , [new_deaths_smoothed_per_million]\r\n",
                "  , [icu_patients]\r\n",
                "  , [icu_patients_per_million]\r\n",
                "  , [hosp_patients]\r\n",
                "  , [hosp_patients_per_million]\r\n",
                "  , [weekly_icu_admissions]\r\n",
                "  , [weekly_icu_admissions_per_million]\r\n",
                "  , [weekly_hosp_admissions]\r\n",
                "  , [weekly_hosp_admissions_per_million]\r\n",
                "  , [new_tests]\r\n",
                "  , [total_tests]\r\n",
                "  , [total_tests_per_thousand]\r\n",
                "  , [new_tests_per_thousand]\r\n",
                "  , [new_tests_smoothed]\r\n",
                "  , [new_tests_smoothed_per_thousand]\r\n",
                "  , [positive_rate]\r\n",
                "  , [tests_per_case]\r\n",
                "  , [tests_units]\r\n",
                "  , [total_vaccinations]\r\n",
                "  , [people_vaccinated]\r\n",
                "  , [people_fully_vaccinated]\r\n",
                "  , [new_vaccinations]\r\n",
                "  , [new_vaccinations_smoothed]\r\n",
                "  , [total_vaccinations_per_hundred]\r\n",
                "  , [people_vaccinated_per_hundred]\r\n",
                "  , [people_fully_vaccinated_per_hundred]\r\n",
                "  , [new_vaccinations_smoothed_per_million]\r\n",
                "INTO \r\n",
                "    [Owid Covid Data]\r\n",
                "FROM \r\n",
                "   [OwidCovid.Source];"
            ],
            "metadata": {
                "azdata_cell_guid": "57bc0f8e-6bc3-41c6-a35c-7bb1de62744e"
            },
            "outputs": [
                {
                    "output_type": "display_data",
                    "data": {
                        "text/html": "(94861 rows affected)"
                    },
                    "metadata": {}
                },
                {
                    "output_type": "display_data",
                    "data": {
                        "text/html": "Total execution time: 00:00:01.665"
                    },
                    "metadata": {}
                }
            ],
            "execution_count": 145
        },
        {
            "cell_type": "markdown",
            "source": [
                "## Quitar los totales parciales por continente, dado que no están todos"
            ],
            "metadata": {
                "azdata_cell_guid": "4ce0bc44-7b72-4a2f-a856-337a40618785"
            }
        },
        {
            "cell_type": "code",
            "source": [
                "DELETE \r\n",
                "FROM            OwidCountriesData\r\n",
                "WHERE        (CountriesId IS NULL)"
            ],
            "metadata": {
                "azdata_cell_guid": "f170e1c4-dab9-4141-9910-f30bf32c0df8"
            },
            "outputs": [
                {
                    "output_type": "display_data",
                    "data": {
                        "text/html": "(0 rows affected)"
                    },
                    "metadata": {}
                },
                {
                    "output_type": "display_data",
                    "data": {
                        "text/html": "Total execution time: 00:00:00.005"
                    },
                    "metadata": {}
                }
            ],
            "execution_count": 146
        },
        {
            "cell_type": "markdown",
            "source": [
                "## Quitar las tablas intermedias de procesamiento"
            ],
            "metadata": {
                "azdata_cell_guid": "95c0a895-2fa7-4237-94dc-d511b382e215"
            }
        },
        {
            "cell_type": "code",
            "source": [
                "IF EXISTS\r\n",
                "(\r\n",
                "    SELECT \r\n",
                "        *\r\n",
                "    FROM \r\n",
                "       [sys].[objects]\r\n",
                "    WHERE object_id = OBJECT_ID(N'[dbo].[OwidCovid.Raw]')\r\n",
                "          AND [type] IN(N'U')\r\n",
                ")\r\n",
                "  BEGIN\r\n",
                "    DROP TABLE [dbo].[OwidCovid.Raw]\r\n",
                "  END;\r\n",
                "GO\r\n",
                "\r\n",
                "IF EXISTS\r\n",
                "(\r\n",
                "    SELECT \r\n",
                "        *\r\n",
                "    FROM \r\n",
                "       [sys].[objects]\r\n",
                "    WHERE object_id = OBJECT_ID(N'[dbo].[OwidCovid.Source]')\r\n",
                "          AND [type] IN(N'U')\r\n",
                ")\r\n",
                "  BEGIN\r\n",
                "    DROP TABLE [dbo].[OwidCovid.Source]\r\n",
                "  END;\r\n",
                "GO\r\n",
                "\r\n",
                ""
            ],
            "metadata": {
                "azdata_cell_guid": "5d9db3f0-0561-4822-b4a6-bf0de303deb3"
            },
            "outputs": [
                {
                    "output_type": "display_data",
                    "data": {
                        "text/html": "Commands completed successfully."
                    },
                    "metadata": {}
                },
                {
                    "output_type": "display_data",
                    "data": {
                        "text/html": "Commands completed successfully."
                    },
                    "metadata": {}
                },
                {
                    "output_type": "display_data",
                    "data": {
                        "text/html": "Total execution time: 00:00:00.051"
                    },
                    "metadata": {}
                }
            ],
            "execution_count": 147
        },
        {
            "cell_type": "markdown",
            "source": [
                "Quitar datos de paises y continentes no identificados (corresponden a datos totalizados)"
            ],
            "metadata": {
                "azdata_cell_guid": "d4c72215-c537-4af6-ac10-c2580fdf0159"
            }
        },
        {
            "cell_type": "code",
            "source": [
                "DELETE FROM            [Owid Covid Data]\r\n",
                "WHERE        (ContinentId IS NULL) OR\r\n",
                "                         (CountriesId IS NULL) OR (CountriesId=0)\r\n",
                "\r\n",
                "DELETE FROM            OwidCountriesData\r\n",
                "WHERE        (ContinentId IS NULL) OR\r\n",
                "                         (CountriesId IS NULL) OR (CountriesId=0)                         "
            ],
            "metadata": {
                "azdata_cell_guid": "f35b4d04-1b43-4552-95e0-8d8c1e9066c3"
            },
            "outputs": [
                {
                    "output_type": "display_data",
                    "data": {
                        "text/html": "(5068 rows affected)"
                    },
                    "metadata": {}
                },
                {
                    "output_type": "display_data",
                    "data": {
                        "text/html": "(9 rows affected)"
                    },
                    "metadata": {}
                },
                {
                    "output_type": "display_data",
                    "data": {
                        "text/html": "Total execution time: 00:00:00.157"
                    },
                    "metadata": {}
                }
            ],
            "execution_count": 148
        },
        {
            "cell_type": "markdown",
            "source": [
                "## Agregar clave primaria a las tablas de datos\n",
                "\n",
                " (No es imprescindible, pero por mejorar la implementación)"
            ],
            "metadata": {
                "azdata_cell_guid": "18b1037e-7546-44bb-a32a-c111ecd0d784"
            }
        },
        {
            "cell_type": "code",
            "source": [
                "BEGIN TRANSACTION\r\n",
                "GO\r\n",
                "ALTER TABLE dbo.[Owid Covid Data] ADD CONSTRAINT\r\n",
                "\t[PK_Owid Covid Data] PRIMARY KEY CLUSTERED \r\n",
                "\t(\r\n",
                "\tContinentId,\r\n",
                "\tCountriesId,\r\n",
                "\tdate\r\n",
                "\t) WITH( STATISTICS_NORECOMPUTE = OFF, IGNORE_DUP_KEY = OFF, ALLOW_ROW_LOCKS = ON, ALLOW_PAGE_LOCKS = ON) ON [PRIMARY]\r\n",
                "\r\n",
                "GO\r\n",
                "ALTER TABLE dbo.[Owid Covid Data] SET (LOCK_ESCALATION = TABLE)\r\n",
                "GO\r\n",
                "COMMIT\r\n",
                "BEGIN TRANSACTION\r\n",
                "GO\r\n",
                "ALTER TABLE dbo.OwidCountriesData ADD CONSTRAINT\r\n",
                "\tPK_OwidCountriesData PRIMARY KEY CLUSTERED \r\n",
                "\t(\r\n",
                "\tContinentId,\r\n",
                "\tCountriesId\r\n",
                "\t) WITH( STATISTICS_NORECOMPUTE = OFF, IGNORE_DUP_KEY = OFF, ALLOW_ROW_LOCKS = ON, ALLOW_PAGE_LOCKS = ON) ON [PRIMARY]\r\n",
                "\r\n",
                "GO\r\n",
                "ALTER TABLE dbo.OwidCountriesData SET (LOCK_ESCALATION = TABLE)\r\n",
                "GO\r\n",
                "COMMIT\r\n",
                ""
            ],
            "metadata": {
                "azdata_cell_guid": "672b9e1e-c0c1-48f3-9a55-6918705973f1"
            },
            "outputs": [
                {
                    "output_type": "display_data",
                    "data": {
                        "text/html": "Commands completed successfully."
                    },
                    "metadata": {}
                },
                {
                    "output_type": "display_data",
                    "data": {
                        "text/html": "Commands completed successfully."
                    },
                    "metadata": {}
                },
                {
                    "output_type": "display_data",
                    "data": {
                        "text/html": "Commands completed successfully."
                    },
                    "metadata": {}
                },
                {
                    "output_type": "display_data",
                    "data": {
                        "text/html": "Commands completed successfully."
                    },
                    "metadata": {}
                },
                {
                    "output_type": "display_data",
                    "data": {
                        "text/html": "Commands completed successfully."
                    },
                    "metadata": {}
                },
                {
                    "output_type": "display_data",
                    "data": {
                        "text/html": "Commands completed successfully."
                    },
                    "metadata": {}
                },
                {
                    "output_type": "display_data",
                    "data": {
                        "text/html": "Commands completed successfully."
                    },
                    "metadata": {}
                },
                {
                    "output_type": "display_data",
                    "data": {
                        "text/html": "Total execution time: 00:00:01.535"
                    },
                    "metadata": {}
                }
            ],
            "execution_count": 149
        },
        {
            "cell_type": "markdown",
            "source": [
                "## Definir la integridad referencial entre las tablas"
            ],
            "metadata": {
                "azdata_cell_guid": "de89a4cf-08ad-406d-8537-c69194199eb1"
            }
        },
        {
            "cell_type": "code",
            "source": [
                "\r\n",
                "BEGIN TRANSACTION;\r\n",
                "GO\r\n",
                "\r\n",
                "ALTER TABLE [dbo].[Countries] SET(LOCK_ESCALATION = TABLE);\r\n",
                "GO\r\n",
                "\r\n",
                "COMMIT;\r\n",
                "\r\n",
                "BEGIN TRANSACTION;\r\n",
                "GO\r\n",
                "\r\n",
                "ALTER TABLE [dbo].[Continents] SET(LOCK_ESCALATION = TABLE);\r\n",
                "GO\r\n",
                "\r\n",
                "COMMIT;\r\n",
                "\r\n",
                "BEGIN TRANSACTION;\r\n",
                "GO\r\n",
                "\r\n",
                "ALTER TABLE [dbo].[Owid Covid Data]\r\n",
                "ADD CONSTRAINT [FK_Owid Covid Data_Continents] FOREIGN KEY([ContinentId]) REFERENCES [dbo].[Continents](\r\n",
                "    [Id]) ON UPDATE NO ACTION ON DELETE NO ACTION;\r\n",
                "GO\r\n",
                "\r\n",
                "ALTER TABLE [dbo].[Owid Covid Data]\r\n",
                "ADD CONSTRAINT [FK_Owid Covid Data_Countries] FOREIGN KEY([CountriesId]) REFERENCES [dbo].[Countries](\r\n",
                "    [Id]) ON UPDATE NO ACTION ON DELETE NO ACTION;\r\n",
                "GO\r\n",
                "\r\n",
                "ALTER TABLE [dbo].[Owid Covid Data] SET(LOCK_ESCALATION = TABLE);\r\n",
                "GO\r\n",
                "\r\n",
                "COMMIT;\r\n",
                "\r\n",
                "BEGIN TRANSACTION;\r\n",
                "GO\r\n",
                "\r\n",
                "ALTER TABLE [dbo].[OwidCountriesData]\r\n",
                "ADD CONSTRAINT [FK_OwidCountriesData_Continents] FOREIGN KEY([ContinentId]) REFERENCES [dbo].[Continents](\r\n",
                "    [Id]) ON UPDATE NO ACTION ON DELETE NO ACTION;\r\n",
                "GO\r\n",
                "\r\n",
                "ALTER TABLE [dbo].[OwidCountriesData]\r\n",
                "ADD CONSTRAINT [FK_OwidCountriesData_Countries] FOREIGN KEY([CountriesId]) REFERENCES [dbo].[Countries](\r\n",
                "    [Id]) ON UPDATE NO ACTION ON DELETE NO ACTION;\r\n",
                "GO\r\n",
                "\r\n",
                "ALTER TABLE [dbo].[OwidCountriesData] SET(LOCK_ESCALATION = TABLE);\r\n",
                "GO\r\n",
                "\r\n",
                "COMMIT;"
            ],
            "metadata": {
                "azdata_cell_guid": "6ab0d30d-e77a-4586-970d-3c0599ffa0bb"
            },
            "outputs": [
                {
                    "output_type": "display_data",
                    "data": {
                        "text/html": "Commands completed successfully."
                    },
                    "metadata": {}
                },
                {
                    "output_type": "display_data",
                    "data": {
                        "text/html": "Commands completed successfully."
                    },
                    "metadata": {}
                },
                {
                    "output_type": "display_data",
                    "data": {
                        "text/html": "Commands completed successfully."
                    },
                    "metadata": {}
                },
                {
                    "output_type": "display_data",
                    "data": {
                        "text/html": "Commands completed successfully."
                    },
                    "metadata": {}
                },
                {
                    "output_type": "display_data",
                    "data": {
                        "text/html": "Commands completed successfully."
                    },
                    "metadata": {}
                },
                {
                    "output_type": "display_data",
                    "data": {
                        "text/html": "Commands completed successfully."
                    },
                    "metadata": {}
                },
                {
                    "output_type": "display_data",
                    "data": {
                        "text/html": "Commands completed successfully."
                    },
                    "metadata": {}
                },
                {
                    "output_type": "display_data",
                    "data": {
                        "text/html": "Commands completed successfully."
                    },
                    "metadata": {}
                },
                {
                    "output_type": "display_data",
                    "data": {
                        "text/html": "Commands completed successfully."
                    },
                    "metadata": {}
                },
                {
                    "output_type": "display_data",
                    "data": {
                        "text/html": "Commands completed successfully."
                    },
                    "metadata": {}
                },
                {
                    "output_type": "display_data",
                    "data": {
                        "text/html": "Commands completed successfully."
                    },
                    "metadata": {}
                },
                {
                    "output_type": "display_data",
                    "data": {
                        "text/html": "Commands completed successfully."
                    },
                    "metadata": {}
                },
                {
                    "output_type": "display_data",
                    "data": {
                        "text/html": "Commands completed successfully."
                    },
                    "metadata": {}
                },
                {
                    "output_type": "display_data",
                    "data": {
                        "text/html": "Total execution time: 00:00:00.137"
                    },
                    "metadata": {}
                }
            ],
            "execution_count": 150
        },
        {
            "cell_type": "markdown",
            "source": [
                "## Esquema final.\n",
                "\n",
                "![Schema](https://universidadnetdotes.files.wordpress.com/2021/06/demosdbschema.png)"
            ],
            "metadata": {
                "azdata_cell_guid": "6678ceca-027a-429c-99e9-d850d093a449"
            }
        }
    ]
}