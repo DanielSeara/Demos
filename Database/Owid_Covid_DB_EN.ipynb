{
    "metadata": {
        "kernelspec": {
            "name": "SQL",
            "display_name": "SQL",
            "language": "sql"
        },
        "language_info": {
            "name": "sql",
            "version": ""
        }
    },
    "nbformat_minor": 2,
    "nbformat": 4,
    "cells": [
        {
            "cell_type": "markdown",
            "source": [
                "# Sample Database.\n",
                "\n",
                "<span class=\"ts-alignment-element\" id=\"tgtAlignment_0\" style=\"background-color: transparent;\" data-is-focusable=\"true\">This</span> <span class=\"ts-alignment-element\" id=\"tgtAlignment_1\" style=\"background-color: transparent;\" data-is-focusable=\"true\">workbook</span> <span class=\"ts-alignment-element\" id=\"tgtAlignment_2\" style=\"background-color: transparent;\" data-is-focusable=\"true\">allows</span> <span class=\"ts-alignment-element\" id=\"tgtAlignment_3\" style=\"background-color: transparent;\" data-is-focusable=\"true\">you</span> <span class=\"ts-alignment-element\" id=\"tgtAlignment_4\" style=\"background-color: transparent;\" data-is-focusable=\"true\">to</span> <span class=\"ts-alignment-element\" id=\"tgtAlignment_5\" style=\"background-color: transparent;\" data-is-focusable=\"true\">generate</span> <span class=\"ts-alignment-element\" id=\"tgtAlignment_6\" style=\"background-color: transparent;\" data-is-focusable=\"true\">a</span> <span class=\"ts-alignment-element\" id=\"tgtAlignment_7\" style=\"background-color: transparent;\" data-is-focusable=\"true\">database,</span> <span class=\"ts-alignment-element\" id=\"tgtAlignment_8\" style=\"background-color: transparent;\" data-is-focusable=\"true\">with</span> <span class=\"ts-alignment-element\" id=\"tgtAlignment_9\" style=\"background-color: transparent;\" data-is-focusable=\"true\">sample</span> <span class=\"ts-alignment-element\" id=\"tgtAlignment_10\" style=\"background-color: transparent;\" data-is-focusable=\"true\">content,</span> <span class=\"ts-alignment-element\" id=\"tgtAlignment_11\" style=\"background-color: transparent;\" data-is-focusable=\"true\">taken</span> <span class=\"ts-alignment-element\" id=\"tgtAlignment_12\" style=\"background-color: transparent;\" data-is-focusable=\"true\">from</span> <span class=\"ts-alignment-element\" id=\"tgtAlignment_13\" style=\"background-color: transparent;\" data-is-focusable=\"true\">Our</span> <span class=\"ts-alignment-element\" id=\"tgtAlignment_14\" style=\"background-color: transparent;\" data-is-focusable=\"true\">World</span> <span class=\"ts-alignment-element\" id=\"tgtAlignment_15\" style=\"background-color: transparent;\" data-is-focusable=\"true\">In</span> <span class=\"ts-alignment-element\" id=\"tgtAlignment_16\" style=\"background-color: transparent;\" data-is-focusable=\"true\">Data,</span> <span class=\"ts-alignment-element\" id=\"tgtAlignment_17\" style=\"background-color: transparent;\" data-is-focusable=\"true\">related</span> <span class=\"ts-alignment-element\" id=\"tgtAlignment_18\" style=\"background-color: transparent;\" data-is-focusable=\"true\">to</span> <span class=\"ts-alignment-element\" id=\"tgtAlignment_19\" style=\"background-color: transparent;\" data-is-focusable=\"true\">global</span> <span class=\"ts-alignment-element\" id=\"tgtAlignment_20\" style=\"background-color: transparent;\" data-is-focusable=\"true\">information</span> <span class=\"ts-alignment-element\" id=\"tgtAlignment_21\" style=\"background-color: transparent;\" data-is-focusable=\"true\">about</span> <span class=\"ts-alignment-element\" id=\"tgtAlignment_22\" style=\"background-color: transparent;\" data-is-focusable=\"true\">the</span> <span class=\"ts-alignment-element\" id=\"tgtAlignment_23\" style=\"background-color: transparent;\" data-is-focusable=\"true\">COVID-19</span> <span class=\"ts-alignment-element\" id=\"tgtAlignment_24\" style=\"background-color: transparent;\" data-is-focusable=\"true\">pandemic.</span>"
            ],
            "metadata": {
                "azdata_cell_guid": "fa77e7a4-f231-4041-926e-41d2d3471bbb"
            }
        },
        {
            "cell_type": "markdown",
            "source": [
                "## <span class=\"ts-alignment-element\" id=\"tgtAlignment_1\" style=\"background-color: transparent;\" data-is-focusable=\"true\">Importing data</span> <span class=\"ts-alignment-element\" id=\"tgtAlignment_2\" style=\"background-color: transparent;\" data-is-focusable=\"true\">from</span> <span class=\"ts-alignment-element\" id=\"tgtAlignment_3\" style=\"background-color: transparent;\" data-is-focusable=\"true\">Our</span> <span class=\"ts-alignment-element\" id=\"tgtAlignment_4\" style=\"background-color: transparent;\" data-is-focusable=\"true\">World</span> <span class=\"ts-alignment-element\" id=\"tgtAlignment_5\" style=\"background-color: transparent;\" data-is-focusable=\"true\">in</span> <span class=\"ts-alignment-element\" id=\"tgtAlignment_6\" style=\"background-color: transparent;\" data-is-focusable=\"true\">Data</span>  \n",
                "\n",
                "Download the file from this url. [https://covid.ourworldindata.org/data/owid-covid-data.csv](https://covid.ourworldindata.org/data/owid-covid-data.csv)  \n",
                "\n",
                "This is the data stricture: [https://github.com/owid/covid-19-data/blob/master/public/data/owid-covid-data.csv](https://github.com/owid/covid-19-data/blob/master/public/data/owid-covid-data.csv)"
            ],
            "metadata": {
                "azdata_cell_guid": "07c39f22-e4c4-4644-8928-1b99a5991cd3"
            }
        },
        {
            "cell_type": "markdown",
            "source": [
                "## Create a new empty database."
            ],
            "metadata": {
                "azdata_cell_guid": "751f7d7b-9147-4c77-b311-d8450fa68978"
            }
        },
        {
            "cell_type": "code",
            "source": [
                "use master \r\n",
                "GO\r\n",
                "Create database [Owin Covid DemosDB]\r\n",
                "GO\r\n",
                "USE [Owin Covid DemosDB]\r\n",
                "GO"
            ],
            "metadata": {
                "azdata_cell_guid": "d59c57a1-d363-45e3-bf18-72f794c2bde8"
            },
            "outputs": [],
            "execution_count": null
        },
        {
            "cell_type": "markdown",
            "source": [
                "## \n",
                "\n",
                "<span class=\"ts-alignment-element\" id=\"tgtAlignment_0\" style=\"background-color: transparent;\" data-is-focusable=\"true\">Add</span> <span class=\"ts-alignment-element\" id=\"tgtAlignment_1\" style=\"background-color: transparent;\" data-is-focusable=\"true\">user</span> <span class=\"ts-alignment-element\" id=\"tgtAlignment_2\" style=\"background-color: transparent;\" data-is-focusable=\"true\">with</span> <span class=\"ts-alignment-element\" id=\"tgtAlignment_3\" style=\"background-color: transparent;\" data-is-focusable=\"true\">permissions</span> <span class=\"ts-alignment-element\" id=\"tgtAlignment_4\" style=\"background-color: transparent;\" data-is-focusable=\"true\">only</span> <span class=\"ts-alignment-element\" id=\"tgtAlignment_5\" style=\"background-color: transparent;\" data-is-focusable=\"true\">on</span> <span class=\"ts-alignment-element\" id=\"tgtAlignment_6\" style=\"background-color: transparent;\" data-is-focusable=\"true\">the</span> <span class=\"ts-alignment-element\" id=\"tgtAlignment_7\" style=\"background-color: transparent;\" data-is-focusable=\"true\">database</span>\n",
                "\n",
                "<span class=\"ts-alignment-element\" id=\"tgtAlignment_0\" style=\"background-color: transparent;\" data-is-focusable=\"true\">For</span> <span class=\"ts-alignment-element\" id=\"tgtAlignment_1\" style=\"background-color: transparent;\" data-is-focusable=\"true\">testing,</span> we <span class=\"ts-alignment-element\" id=\"tgtAlignment_2\" style=\"background-color: transparent;\" data-is-focusable=\"true\">will</span> <span class=\"ts-alignment-element\" id=\"tgtAlignment_3\" style=\"background-color: transparent;\" data-is-focusable=\"true\">use</span> <span class=\"ts-alignment-element\" id=\"tgtAlignment_4\" style=\"background-color: transparent;\" data-is-focusable=\"true\">a</span> <span class=\"ts-alignment-element\" id=\"tgtAlignment_5\" style=\"background-color: transparent;\" data-is-focusable=\"true\">user</span> <span class=\"ts-alignment-element\" id=\"tgtAlignment_6\" style=\"background-color: transparent;\" data-is-focusable=\"true\">who</span> <span class=\"ts-alignment-element\" id=\"tgtAlignment_7\" style=\"background-color: transparent;\" data-is-focusable=\"true\">has</span> <span class=\"ts-alignment-element\" id=\"tgtAlignment_8\" style=\"background-color: transparent;\" data-is-focusable=\"true\">exclusive</span> <span class=\"ts-alignment-element\" id=\"tgtAlignment_9\" style=\"background-color: transparent;\" data-is-focusable=\"true\">access</span> <span class=\"ts-alignment-element\" id=\"tgtAlignment_10\" style=\"background-color: transparent;\" data-is-focusable=\"true\">to</span> <span class=\"ts-alignment-element\" id=\"tgtAlignment_11\" style=\"background-color: transparent;\" data-is-focusable=\"true\">this</span> <span class=\"ts-alignment-element\" id=\"tgtAlignment_12\" style=\"background-color: transparent;\" data-is-focusable=\"true\">test</span> <span class=\"ts-alignment-element\" id=\"tgtAlignment_13\" style=\"background-color: transparent;\" data-is-focusable=\"true\">database.</span> \n",
                "\n",
                "<span class=\"ts-alignment-element\" id=\"tgtAlignment_14\" style=\"background-color: transparent;\" data-is-focusable=\"true\">Note:</span> <span class=\"ts-alignment-element\" id=\"tgtAlignment_15\" style=\"background-color: transparent;\" data-is-focusable=\"true\">Because</span> <span class=\"ts-alignment-element\" id=\"tgtAlignment_16\" style=\"background-color: transparent;\" data-is-focusable=\"true\">the</span> <span class=\"ts-alignment-element\" id=\"tgtAlignment_17\" style=\"background-color: transparent;\" data-is-focusable=\"true\">contention</span> <span class=\"ts-alignment-element\" id=\"tgtAlignment_18\" style=\"background-color: transparent;\" data-is-focusable=\"true\">level</span> <span class=\"ts-alignment-element\" id=\"tgtAlignment_19\" style=\"background-color: transparent;\" data-is-focusable=\"true\">of</span> <span class=\"ts-alignment-element\" id=\"tgtAlignment_20\" style=\"background-color: transparent;\" data-is-focusable=\"true\">the</span> <span class=\"ts-alignment-element\" id=\"tgtAlignment_21\" style=\"background-color: transparent;\" data-is-focusable=\"true\">database</span> <span class=\"ts-alignment-element\" id=\"tgtAlignment_22\" style=\"background-color: transparent;\" data-is-focusable=\"true\">must</span> <span class=\"ts-alignment-element\" id=\"tgtAlignment_23\" style=\"background-color: transparent;\" data-is-focusable=\"true\">be</span> <span class=\"ts-alignment-element\" id=\"tgtAlignment_24\" style=\"background-color: transparent;\" data-is-focusable=\"true\">reconfigured,</span> <span class=\"ts-alignment-element\" id=\"tgtAlignment_25\" style=\"background-color: transparent;\" data-is-focusable=\"true\">the</span> <span class=\"ts-alignment-element\" id=\"tgtAlignment_26\" style=\"background-color: transparent;\" data-is-focusable=\"true\">database</span> <span class=\"ts-alignment-element\" id=\"tgtAlignment_27\" style=\"background-color: transparent;\" data-is-focusable=\"true\">must</span> <span class=\"ts-alignment-element\" id=\"tgtAlignment_28\" style=\"background-color: transparent;\" data-is-focusable=\"true\">have</span> <span class=\"ts-alignment-element\" id=\"tgtAlignment_29\" style=\"background-color: transparent;\" data-is-focusable=\"true\">exclusive</span> <span class=\"ts-alignment-element\" id=\"tgtAlignment_30\" style=\"background-color: transparent;\" data-is-focusable=\"true\">access.</span>  \n",
                "\n",
                "<span class=\"ts-alignment-element\" id=\"tgtAlignment_31\" style=\"background-color: transparent;\" data-is-focusable=\"true\">That</span> <span class=\"ts-alignment-element\" id=\"tgtAlignment_32\" style=\"background-color: transparent;\" data-is-focusable=\"true\">is</span> why <span class=\"ts-alignment-element\" id=\"tgtAlignment_33\" style=\"background-color: transparent;\" data-is-focusable=\"true\">we</span> are <span class=\"ts-alignment-element\" id=\"tgtAlignment_34\" style=\"background-color: transparent;\" data-is-focusable=\"true\">doing</span> <span class=\"ts-alignment-element\" id=\"tgtAlignment_35\" style=\"background-color: transparent;\" data-is-focusable=\"true\">this</span> <span class=\"ts-alignment-element\" id=\"tgtAlignment_36\" style=\"background-color: transparent;\" data-is-focusable=\"true\">first</span> <span class=\"ts-alignment-element\" id=\"tgtAlignment_37\" style=\"background-color: transparent;\" data-is-focusable=\"true\">and</span> <span class=\"ts-alignment-element\" id=\"tgtAlignment_38\" style=\"background-color: transparent;\" data-is-focusable=\"true\">foremost.</span> <span class=\"ts-alignment-element\" id=\"tgtAlignment_39\" style=\"background-color: transparent;\" data-is-focusable=\"true\">We</span> <span class=\"ts-alignment-element\" id=\"tgtAlignment_40\" style=\"background-color: transparent;\" data-is-focusable=\"true\">create</span> <span class=\"ts-alignment-element\" id=\"tgtAlignment_41\" style=\"background-color: transparent;\" data-is-focusable=\"true\">a</span> <span class=\"ts-alignment-element\" id=\"tgtAlignment_42\" style=\"background-color: transparent;\" data-is-focusable=\"true\">user</span> <span class=\"ts-alignment-element\" id=\"tgtAlignment_43\" style=\"background-color: transparent;\" data-is-focusable=\"true\">with</span> <span class=\"ts-alignment-element\" id=\"tgtAlignment_44\" style=\"background-color: transparent;\" data-is-focusable=\"true\">permissions</span> <span class=\"ts-alignment-element\" id=\"tgtAlignment_45\" style=\"background-color: transparent;\" data-is-focusable=\"true\">to</span> <span class=\"ts-alignment-element\" id=\"tgtAlignment_46\" style=\"background-color: transparent;\" data-is-focusable=\"true\">read</span> <span class=\"ts-alignment-element\" id=\"tgtAlignment_47\" style=\"background-color: transparent;\" data-is-focusable=\"true\">and</span> <span class=\"ts-alignment-element\" id=\"tgtAlignment_48\" style=\"background-color: transparent;\" data-is-focusable=\"true\">write</span> <span class=\"ts-alignment-element\" id=\"tgtAlignment_49\" style=\"background-color: transparent;\" data-is-focusable=\"true\">data,</span> <span class=\"ts-alignment-element\" id=\"tgtAlignment_50\" style=\"background-color: transparent;\" data-is-focusable=\"true\">for</span> <span class=\"ts-alignment-element\" id=\"tgtAlignment_51\" style=\"background-color: transparent;\" data-is-focusable=\"true\">security.</span> \n",
                "\n",
                "<span class=\"ts-alignment-element\" id=\"tgtAlignment_52\" style=\"background-color: transparent;\" data-is-focusable=\"true\">The</span> <span class=\"ts-alignment-element\" id=\"tgtAlignment_53\" style=\"background-color: transparent;\" data-is-focusable=\"true\">user</span> <span class=\"ts-alignment-element\" id=\"tgtAlignment_54\" style=\"background-color: transparent;\" data-is-focusable=\"true\">will</span> <span class=\"ts-alignment-element\" id=\"tgtAlignment_55\" style=\"background-color: transparent;\" data-is-focusable=\"true\">be:</span> <span class=\"ts-alignment-element\" id=\"tgtAlignment_56\" style=\"background-color: transparent;\" data-is-focusable=\"true\">OwidApp.</span>\n",
                "\n",
                "Password: <span style=\"color: rgb(206, 145, 120); font-family: Consolas, &quot;Courier New&quot;, monospace; font-size: 12px; white-space: pre;\">pA$sword1</span>"
            ],
            "metadata": {
                "azdata_cell_guid": "863bc840-2f93-45ae-bd3b-62e8cbf3bdd8"
            }
        },
        {
            "cell_type": "code",
            "source": [
                "EXEC [sys].[sp_configure] \r\n",
                "     N'contained database authentication'\r\n",
                "   , N'1';\r\n",
                "GO\r\n",
                "\r\n",
                "RECONFIGURE WITH OVERRIDE;\r\n",
                "GO\r\n",
                "\r\n",
                "USE [master];\r\n",
                "GO\r\n",
                "\r\n",
                "ALTER DATABASE [Owin Covid DemosDB] SET CONTAINMENT = PARTIAL WITH NO_WAIT;\r\n",
                "GO\r\n",
                "\r\n",
                "USE [Owin Covid DemosDB];\r\n",
                "GO\r\n",
                "\r\n",
                "CREATE USER [OwidApp] WITH PASSWORD = 'pA$sword1';\r\n",
                "GO\r\n",
                "\r\n",
                "ALTER ROLE [db_datareader] ADD MEMBER [OwidApp];\r\n",
                "\r\n",
                "ALTER ROLE [db_datawriter] ADD MEMBER [OwidApp];\r\n",
                "GO"
            ],
            "metadata": {
                "azdata_cell_guid": "c2779f35-79fc-413e-b430-f6f37461b784"
            },
            "outputs": [],
            "execution_count": null
        },
        {
            "cell_type": "markdown",
            "source": [
                "## Create a table to import the raw data."
            ],
            "metadata": {
                "azdata_cell_guid": "216121dc-f116-4d99-9d43-2b7b7fa623a5"
            }
        },
        {
            "cell_type": "code",
            "source": [
                "\r\n",
                "CREATE TABLE [OwidCovid.Raw](\r\n",
                "\t[iso_code] [nvarchar](max) NULL,\r\n",
                "\t[continent] [nvarchar](max) NULL,\r\n",
                "\t[location] [nvarchar](max) NULL,\r\n",
                "\t[date] [nvarchar](max) NULL,\r\n",
                "\t[total_cases] [nvarchar](max) NULL,\r\n",
                "\t[new_cases] [nvarchar](max) NULL,\r\n",
                "\t[new_cases_smoothed] [nvarchar](max) NULL,\r\n",
                "\t[total_deaths] [nvarchar](max) NULL,\r\n",
                "\t[new_deaths] [nvarchar](max) NULL,\r\n",
                "\t[new_deaths_smoothed] [nvarchar](max) NULL,\r\n",
                "\t[total_cases_per_million] [nvarchar](max) NULL,\r\n",
                "\t[new_cases_per_million] [nvarchar](max) NULL,\r\n",
                "\t[new_cases_smoothed_per_million] [nvarchar](max) NULL,\r\n",
                "\t[total_deaths_per_million] [nvarchar](max) NULL,\r\n",
                "\t[new_deaths_per_million] [nvarchar](max) NULL,\r\n",
                "\t[new_deaths_smoothed_per_million] [nvarchar](max) NULL,\r\n",
                "\t[reproduction_rate] [nvarchar](max) NULL,\r\n",
                "\t[icu_patients] [nvarchar](max) NULL,\r\n",
                "\t[icu_patients_per_million] [nvarchar](max) NULL,\r\n",
                "\t[hosp_patients] [nvarchar](max) NULL,\r\n",
                "\t[hosp_patients_per_million] [nvarchar](max) NULL,\r\n",
                "\t[weekly_icu_admissions] [nvarchar](max) NULL,\r\n",
                "\t[weekly_icu_admissions_per_million] [nvarchar](max) NULL,\r\n",
                "\t[weekly_hosp_admissions] [nvarchar](max) NULL,\r\n",
                "\t[weekly_hosp_admissions_per_million] [nvarchar](max) NULL,\r\n",
                "\t[new_tests] [nvarchar](max) NULL,\r\n",
                "\t[total_tests] [nvarchar](max) NULL,\r\n",
                "\t[total_tests_per_thousand] [nvarchar](max) NULL,\r\n",
                "\t[new_tests_per_thousand] [nvarchar](max) NULL,\r\n",
                "\t[new_tests_smoothed] [nvarchar](max) NULL,\r\n",
                "\t[new_tests_smoothed_per_thousand] [nvarchar](max) NULL,\r\n",
                "\t[positive_rate] [nvarchar](max) NULL,\r\n",
                "\t[tests_per_case] [nvarchar](max) NULL,\r\n",
                "\t[tests_units] [nvarchar](max) NULL,\r\n",
                "\t[total_vaccinations] [nvarchar](max) NULL,\r\n",
                "\t[people_vaccinated] [nvarchar](max) NULL,\r\n",
                "\t[people_fully_vaccinated] [nvarchar](max) NULL,\r\n",
                "\t[new_vaccinations] [nvarchar](max) NULL,\r\n",
                "\t[new_vaccinations_smoothed] [nvarchar](max) NULL,\r\n",
                "\t[total_vaccinations_per_hundred] [nvarchar](max) NULL,\r\n",
                "\t[people_vaccinated_per_hundred] [nvarchar](max) NULL,\r\n",
                "\t[people_fully_vaccinated_per_hundred] [nvarchar](max) NULL,\r\n",
                "\t[new_vaccinations_smoothed_per_million] [nvarchar](max) NULL,\r\n",
                "\t[stringency_index] [nvarchar](max) NULL,\r\n",
                "\t[population] [nvarchar](max) NULL,\r\n",
                "\t[population_density] [nvarchar](max) NULL,\r\n",
                "\t[median_age] [nvarchar](max) NULL,\r\n",
                "\t[aged_65_older] [nvarchar](max) NULL,\r\n",
                "\t[aged_70_older] [nvarchar](max) NULL,\r\n",
                "\t[gdp_per_capita] [nvarchar](max) NULL,\r\n",
                "\t[extreme_poverty] [nvarchar](max) NULL,\r\n",
                "\t[cardiovasc_death_rate] [nvarchar](max) NULL,\r\n",
                "\t[diabetes_prevalence] [nvarchar](max) NULL,\r\n",
                "\t[female_smokers] [nvarchar](max) NULL,\r\n",
                "\t[male_smokers] [nvarchar](max) NULL,\r\n",
                "\t[handwashing_facilities] [nvarchar](max) NULL,\r\n",
                "\t[hospital_beds_per_thousand] [nvarchar](max) NULL,\r\n",
                "\t[life_expectancy] [nvarchar](max) NULL,\r\n",
                "\t[human_development_index] [nvarchar](max) NULL,\r\n",
                "\t[excess_mortality] [nvarchar](max) NULL\r\n",
                ") ON [PRIMARY] TEXTIMAGE_ON [PRIMARY]\r\n",
                ""
            ],
            "metadata": {
                "azdata_cell_guid": "f5c3e3aa-906a-43df-8824-43803003d153"
            },
            "outputs": [],
            "execution_count": null
        },
        {
            "cell_type": "markdown",
            "source": [
                "## Create an intermediate data table with converted data types\r\n",
                ""
            ],
            "metadata": {
                "azdata_cell_guid": "9280f60a-9128-4a38-9140-bb7337ab89ac"
            }
        },
        {
            "cell_type": "code",
            "source": [
                "\r\n",
                "CREATE TABLE [dbo].[OwidCovid.Source](\r\n",
                "\t[iso_code] [nvarchar](10) NULL,\r\n",
                "\t[continent] [nvarchar](50) NULL,\r\n",
                "\t[location] [nvarchar](150) NULL,\r\n",
                "\t[date] [smalldatetime] NOT NULL,\r\n",
                "\t[total_cases] [int] NULL,\r\n",
                "\t[new_cases] [int] NULL,\r\n",
                "\t[new_cases_smoothed] [decimal](18, 4) NULL,\r\n",
                "\t[total_deaths] [int] NULL,\r\n",
                "\t[new_deaths] [int] NULL,\r\n",
                "\t[new_deaths_smoothed] [decimal](18, 4) NULL,\r\n",
                "\t[total_cases_per_million] [decimal](18, 4) NULL,\r\n",
                "\t[new_cases_per_million] [decimal](18, 4) NULL,\r\n",
                "\t[new_cases_smoothed_per_million] [decimal](18, 4) NULL,\r\n",
                "\t[total_deaths_per_million] [decimal](18, 4) NULL,\r\n",
                "\t[new_deaths_per_million] [decimal](18, 4) NULL,\r\n",
                "\t[new_deaths_smoothed_per_million] [decimal](18, 4) NULL,\r\n",
                "\t[reproduction_rate] [decimal](18, 4) NULL,\r\n",
                "\t[icu_patients] [decimal](18, 4) NULL,\r\n",
                "\t[icu_patients_per_million] [decimal](18, 4) NULL,\r\n",
                "\t[hosp_patients] [decimal](18, 4) NULL,\r\n",
                "\t[hosp_patients_per_million] [decimal](18, 4) NULL,\r\n",
                "\t[weekly_icu_admissions] [decimal](18, 4) NULL,\r\n",
                "\t[weekly_icu_admissions_per_million] [decimal](18, 4) NULL,\r\n",
                "\t[weekly_hosp_admissions] [decimal](18, 4) NULL,\r\n",
                "\t[weekly_hosp_admissions_per_million] [decimal](18, 4) NULL,\r\n",
                "\t[new_tests] [decimal](18, 4) NULL,\r\n",
                "\t[total_tests] [decimal](18, 4) NULL,\r\n",
                "\t[total_tests_per_thousand] [decimal](18, 4) NULL,\r\n",
                "\t[new_tests_per_thousand] [decimal](18, 4) NULL,\r\n",
                "\t[new_tests_smoothed] [decimal](18, 4) NULL,\r\n",
                "\t[new_tests_smoothed_per_thousand] [decimal](18, 4) NULL,\r\n",
                "\t[positive_rate] [decimal](18, 4) NULL,\r\n",
                "\t[tests_per_case] [decimal](18, 4) NULL,\r\n",
                "\t[tests_units] [nvarchar](max) NULL,\r\n",
                "\t[total_vaccinations] [bigint] NULL,\r\n",
                "\t[people_vaccinated] [bigint] NULL,\r\n",
                "\t[people_fully_vaccinated] [bigint] NULL,\r\n",
                "\t[new_vaccinations] [decimal](18, 4) NULL,\r\n",
                "\t[new_vaccinations_smoothed] [decimal](18, 4) NULL,\r\n",
                "\t[total_vaccinations_per_hundred] [decimal](18, 4) NULL,\r\n",
                "\t[people_vaccinated_per_hundred] [decimal](18, 4) NULL,\r\n",
                "\t[people_fully_vaccinated_per_hundred] [decimal](18, 4) NULL,\r\n",
                "\t[new_vaccinations_smoothed_per_million] [decimal](18, 4) NULL,\r\n",
                "\t[stringency_index] [decimal](18, 4) NULL,\r\n",
                "\t[population] [bigint] NULL,\r\n",
                "\t[population_density] [decimal](18, 4) NULL,\r\n",
                "\t[median_age] [decimal](18, 4) NULL,\r\n",
                "\t[aged_65_older] [decimal](18, 4) NULL,\r\n",
                "\t[aged_70_older] [decimal](18, 4) NULL,\r\n",
                "\t[gdp_per_capita] [decimal](18, 4) NULL,\r\n",
                "\t[extreme_poverty] [decimal](18, 4) NULL,\r\n",
                "\t[cardiovasc_death_rate] [decimal](18, 4) NULL,\r\n",
                "\t[diabetes_prevalence] [decimal](18, 4) NULL,\r\n",
                "\t[female_smokers] [decimal](18, 4) NULL,\r\n",
                "\t[male_smokers] [decimal](18, 4) NULL,\r\n",
                "\t[handwashing_facilities] [decimal](18, 4) NULL,\r\n",
                "\t[hospital_beds_per_thousand] [decimal](18, 4) NULL,\r\n",
                "\t[life_expectancy] [decimal](18, 4) NULL,\r\n",
                "\t[human_development_index] [decimal](18, 4) NULL,\r\n",
                "\t[excess_mortality] [decimal](18, 4) NULL\r\n",
                ") ON [PRIMARY] TEXTIMAGE_ON [PRIMARY]\r\n",
                ""
            ],
            "metadata": {
                "azdata_cell_guid": "e6217580-d782-41d2-b8c3-5f328d742864"
            },
            "outputs": [],
            "execution_count": null
        },
        {
            "cell_type": "markdown",
            "source": [
                "##  the data from the CSV file."
            ],
            "metadata": {
                "azdata_cell_guid": "e9753bb8-1aaa-4f8d-ac16-64482e0fe86e"
            }
        },
        {
            "cell_type": "code",
            "source": [
                "TRUNCATE TABLE [dbo].[OwidCovid.Raw];\r\n",
                "-- Cambiar el origen del archivo al que corresponda en su equipo Change the source file path to your computer path\r\n",
                "\r\n",
                "BULK INSERT [dbo].[OwidCovid.Raw] FROM '/tmp/owid-covid-data.csv' WITH(FIRSTROW = 2, FORMAT = 'CSV');"
            ],
            "metadata": {
                "azdata_cell_guid": "ef98a904-28ec-495a-a6ed-13e24de6123f"
            },
            "outputs": [],
            "execution_count": null
        },
        {
            "cell_type": "markdown",
            "source": [
                "## Copy the data to the source table, casting data types\r\n",
                ""
            ],
            "metadata": {
                "azdata_cell_guid": "cd78a9da-87b8-4cfb-acb7-dd0af03950b1"
            }
        },
        {
            "cell_type": "code",
            "source": [
                "INSERT INTO [dbo].[OwidCovid.Source]\r\n",
                "       SELECT \r\n",
                "           [iso_code]\r\n",
                "         , [continent]\r\n",
                "         , [location]\r\n",
                "         , CONVERT(SMALLDATETIME, [date])\r\n",
                "         , CONVERT(INT, CAST([total_cases] AS DECIMAL))\r\n",
                "         , CONVERT(INT, CAST([new_cases] AS DECIMAL))\r\n",
                "         , CAST([new_cases_smoothed] AS DECIMAL)\r\n",
                "         , CONVERT(INT, CAST([total_deaths] AS DECIMAL))\r\n",
                "         , CONVERT(INT, CAST([new_deaths] AS DECIMAL))\r\n",
                "         , CAST([new_deaths_smoothed] AS DECIMAL)\r\n",
                "         , CAST([total_cases_per_million] AS DECIMAL)\r\n",
                "         , CAST([new_cases_per_million] AS DECIMAL)\r\n",
                "         , CAST([new_cases_smoothed_per_million] AS DECIMAL)\r\n",
                "         , CAST([total_deaths_per_million] AS DECIMAL)\r\n",
                "         , CAST([new_deaths_per_million] AS DECIMAL)\r\n",
                "         , CAST([new_deaths_smoothed_per_million] AS DECIMAL)\r\n",
                "         , CAST([reproduction_rate] AS DECIMAL)\r\n",
                "         , CAST([icu_patients] AS DECIMAL)\r\n",
                "         , CAST([icu_patients_per_million] AS DECIMAL)\r\n",
                "         , CAST([hosp_patients] AS DECIMAL)\r\n",
                "         , CAST([hosp_patients_per_million] AS DECIMAL)\r\n",
                "         , CAST([weekly_icu_admissions] AS DECIMAL)\r\n",
                "         , CAST([weekly_icu_admissions_per_million] AS DECIMAL)\r\n",
                "         , CAST([weekly_hosp_admissions] AS DECIMAL)\r\n",
                "         , CAST([weekly_hosp_admissions_per_million] AS DECIMAL)\r\n",
                "         , CONVERT(INT, CAST([new_tests] AS DECIMAL))\r\n",
                "         , CONVERT(INT, CAST([total_tests] AS DECIMAL))\r\n",
                "         , CAST([total_tests_per_thousand] AS DECIMAL)\r\n",
                "         , CAST([new_tests_per_thousand] AS DECIMAL)\r\n",
                "         , CAST([new_tests_smoothed] AS DECIMAL)\r\n",
                "         , CAST([new_tests_smoothed_per_thousand] AS DECIMAL)\r\n",
                "         , CAST([positive_rate] AS DECIMAL)\r\n",
                "         , CAST([tests_per_case] AS DECIMAL)\r\n",
                "         , [tests_units]\r\n",
                "         , CONVERT(BIGINT, CAST([total_vaccinations] AS DECIMAL))\r\n",
                "         , CONVERT(BIGINT, CAST([people_vaccinated] AS DECIMAL))\r\n",
                "         , CONVERT(BIGINT, CAST([people_fully_vaccinated] AS DECIMAL))\r\n",
                "         , CONVERT(INT, CAST([new_vaccinations] AS DECIMAL))\r\n",
                "         , CAST([new_vaccinations_smoothed] AS DECIMAL)\r\n",
                "         , CAST([total_vaccinations_per_hundred] AS DECIMAL)\r\n",
                "         , CAST([people_vaccinated_per_hundred] AS DECIMAL)\r\n",
                "         , CAST([people_fully_vaccinated_per_hundred] AS DECIMAL)\r\n",
                "         , CAST([new_vaccinations_smoothed_per_million] AS DECIMAL)\r\n",
                "         , CAST([stringency_index] AS DECIMAL)\r\n",
                "         , CONVERT(BIGINT, CAST([population] AS DECIMAL))\r\n",
                "         , CAST([population_density] AS DECIMAL)\r\n",
                "         , CAST([median_age] AS DECIMAL)\r\n",
                "         , CAST([aged_65_older] AS DECIMAL)\r\n",
                "         , CAST([aged_70_older] AS DECIMAL)\r\n",
                "         , CAST([gdp_per_capita] AS DECIMAL)\r\n",
                "         , CAST([extreme_poverty] AS DECIMAL)\r\n",
                "         , CAST([cardiovasc_death_rate] AS DECIMAL)\r\n",
                "         , CAST([diabetes_prevalence] AS DECIMAL)\r\n",
                "         , CAST([female_smokers] AS DECIMAL)\r\n",
                "         , CAST([male_smokers] AS DECIMAL)\r\n",
                "         , CAST([handwashing_facilities] AS DECIMAL)\r\n",
                "         , CAST([hospital_beds_per_thousand] AS DECIMAL)\r\n",
                "         , CAST([life_expectancy] AS DECIMAL)\r\n",
                "         , CAST([human_development_index] AS DECIMAL)\r\n",
                "         , CAST([excess_mortality] AS DECIMAL)\r\n",
                "       FROM \r\n",
                "          [dbo].[OwidCovid.Raw];"
            ],
            "metadata": {
                "azdata_cell_guid": "55b89c45-d90e-4609-a387-d2a5fd053319"
            },
            "outputs": [],
            "execution_count": null
        },
        {
            "cell_type": "markdown",
            "source": [
                "## Create the Continents table for the names of the continents."
            ],
            "metadata": {
                "azdata_cell_guid": "d7f1727e-2535-41cf-8ead-391dbe759507"
            }
        },
        {
            "cell_type": "code",
            "source": [
                "CREATE TABLE [dbo].[Continents]\r\n",
                " (\r\n",
                "   [Id]         [INT] IDENTITY(1, 1) NOT NULL\r\n",
                " , [Continent]  [NVARCHAR](50) NOT NULL\r\n",
                " , CONSTRAINT [PK_Continents] PRIMARY KEY CLUSTERED([Id] ASC)\r\n",
                ");\r\n",
                ""
            ],
            "metadata": {
                "azdata_cell_guid": "cebe9ba1-0d06-4297-aced-19241cb8fe57"
            },
            "outputs": [],
            "execution_count": null
        },
        {
            "cell_type": "markdown",
            "source": [
                "## Assigns the names of missing continents.\n",
                "\n",
                "In entries that correspond to continent total, the name of the continent is in the location column.\n",
                ""
            ],
            "metadata": {
                "azdata_cell_guid": "5d6b5556-4820-4e73-85eb-fd9f63632191"
            }
        },
        {
            "cell_type": "code",
            "source": [
                "UPDATE       [OwidCovid.Source]\r\n",
                "SET                continent = location\r\n",
                "WHERE        (continent IS NULL)"
            ],
            "metadata": {
                "azdata_cell_guid": "c7256c52-f962-4b2d-9cad-aad0d98c1e15"
            },
            "outputs": [],
            "execution_count": null
        },
        {
            "cell_type": "markdown",
            "source": [
                "## Gets the different names of the continents and adds the corresponding records in the table\r\n",
                ""
            ],
            "metadata": {
                "azdata_cell_guid": "ff62db63-b61e-40cf-b4df-639bf55acbe1"
            }
        },
        {
            "cell_type": "code",
            "source": [
                "/*\r\n",
                "La columna 'continent' tiene valor nulo cuando es un total\r\n",
                "The 'continent' column as null value when it is a total\r\n",
                "*/\r\n",
                "\r\n",
                "INSERT INTO [dbo].[Continents]\r\n",
                " (\r\n",
                "    [Continent]\r\n",
                " )\r\n",
                "       SELECT \r\n",
                "           ISNULL([continent], 'World') AS [Continent]\r\n",
                "       FROM \r\n",
                "          [OwidCovid.Source]\r\n",
                "       GROUP BY \r\n",
                "           [continent];"
            ],
            "metadata": {
                "azdata_cell_guid": "9285f249-2c53-4c99-a7d8-fccd66ff414d"
            },
            "outputs": [],
            "execution_count": null
        },
        {
            "cell_type": "markdown",
            "source": [
                "## Add a Continent ID column to the data table.\r\n",
                ""
            ],
            "metadata": {
                "azdata_cell_guid": "12af761f-0d05-4c58-a0bb-57bf37868da7"
            }
        },
        {
            "cell_type": "code",
            "source": [
                "ALTER TABLE [dbo].[OwidCovid.Source]\r\n",
                "ADD \r\n",
                "    [ContinentId]  INT NOT NULL\r\n",
                "                       DEFAULT 0;\r\n",
                "GO"
            ],
            "metadata": {
                "azdata_cell_guid": "0a38671f-67b3-43a4-b0f0-d56e4201fd9f"
            },
            "outputs": [],
            "execution_count": null
        },
        {
            "cell_type": "markdown",
            "source": [
                "## Map the continent identifier values to the data table.\r\n",
                ""
            ],
            "metadata": {
                "azdata_cell_guid": "0eefeb7c-f9a0-4426-9968-5a99a895f98a"
            }
        },
        {
            "cell_type": "code",
            "source": [
                "UPDATE [OwidCovid.Source]\r\n",
                "  SET \r\n",
                "      [ContinentId] = [Continents].[Id]\r\n",
                "FROM [OwidCovid.Source]\r\n",
                "     INNER JOIN\r\n",
                "       [Continents]\r\n",
                "     ON [OwidCovid.Source].[continent] = [Continents].[Continent];"
            ],
            "metadata": {
                "azdata_cell_guid": "b80e025e-b6a4-404a-a772-e2b567d629c1"
            },
            "outputs": [],
            "execution_count": null
        },
        {
            "cell_type": "markdown",
            "source": [
                "## Remove the Continent column, to always use the Continent table.\r\n",
                ""
            ],
            "metadata": {
                "azdata_cell_guid": "4403f8e0-0bf7-41b2-b2fb-59096c1b7d81"
            }
        },
        {
            "cell_type": "code",
            "source": [
                "ALTER TABLE [dbo].[OwidCovid.Source] DROP COLUMN [continent];\r\n",
                "GO"
            ],
            "metadata": {
                "azdata_cell_guid": "642b07c2-40c2-4150-885e-a9f2a897fb85"
            },
            "outputs": [],
            "execution_count": null
        },
        {
            "cell_type": "markdown",
            "source": [
                "## Create Countries table.\n",
                "\n",
                "Repeat the previous steps, but to create a table of countries and assign the corresponding IDs."
            ],
            "metadata": {
                "azdata_cell_guid": "1a1ab809-0f08-42d1-827a-f168ef1aba21"
            }
        },
        {
            "cell_type": "code",
            "source": [
                "CREATE TABLE [dbo].[Countries]\r\n",
                " (\r\n",
                "   [Id]           [INT] IDENTITY(1, 1) NOT NULL\r\n",
                " , [ContinentId]  INT NOT NULL\r\n",
                " , [Country]      [NVARCHAR](50) NOT NULL\r\n",
                " , CONSTRAINT [PK_Countries] PRIMARY KEY CLUSTERED([Id] ASC)\r\n",
                ");\r\n",
                "GO\r\n",
                "/* \r\n",
                "\tEl campo iso_code contiene valores que comienzan con 'OWID_' para datos globales.\r\n",
                "\tIso_code column starts with 'OWID_' when the row belogs to a summary\r\n",
                "*/\r\n",
                "\r\n",
                "INSERT INTO [dbo].[Countries]\r\n",
                " (\r\n",
                "    [ContinentId]\r\n",
                "  , [Country]\r\n",
                " )\r\n",
                "       SELECT \r\n",
                "           [ContinentId]\r\n",
                "         , [location]\r\n",
                "       FROM \r\n",
                "          [OwidCovid.Source]\r\n",
                "       WHERE(NOT([iso_code] LIKE N'OWID_%'))\r\n",
                "            OR ([iso_code] IS NULL)\r\n",
                "       GROUP BY \r\n",
                "           [ContinentId]\r\n",
                "         , [location];\r\n",
                "GO\r\n",
                "\r\n",
                "\r\n",
                "\r\n",
                "\r\n",
                "ALTER TABLE [dbo].[OwidCovid.Source]\r\n",
                "ADD \r\n",
                "    [CountriesId]  INT NOT NULL\r\n",
                "                       DEFAULT 0;\r\n",
                "GO\r\n",
                "\r\n",
                "UPDATE [OwidCovid.Source]\r\n",
                "  SET \r\n",
                "      [CountriesId] = [id]\r\n",
                "FROM [OwidCovid.Source]\r\n",
                "     INNER JOIN\r\n",
                "       [Countries]\r\n",
                "     ON [OwidCovid.Source].[location] = [Countries].[Country];\r\n",
                "\r\n",
                "ALTER TABLE [dbo].[OwidCovid.Source] DROP COLUMN [location];\r\n",
                "GO"
            ],
            "metadata": {
                "azdata_cell_guid": "538bf1fd-468a-463e-8ffe-3294dd38831f"
            },
            "outputs": [],
            "execution_count": null
        },
        {
            "cell_type": "markdown",
            "source": [
                "## Get the global demographic data, which does not vary from day to day, in the table **OwidCountriesData**"
            ],
            "metadata": {
                "azdata_cell_guid": "655a29af-c06d-44a3-8d99-2bd9d96e9600"
            }
        },
        {
            "cell_type": "code",
            "source": [
                "SELECT DISTINCT \r\n",
                "    [ContinentId]\r\n",
                "  , [CountriesId]\r\n",
                "  , MAX([total_cases]) AS [total_cases]\r\n",
                "  , MAX([total_deaths]) AS [total_deaths]\r\n",
                "  , MAX([total_cases_per_million]) AS [total_cases_per_million]\r\n",
                "  , MAX([total_deaths_per_million]) AS [total_deaths_per_million]\r\n",
                "  , MAX([reproduction_rate]) AS [reproduction_rate]\r\n",
                "  , MAX([icu_patients]) AS [icu_patients]\r\n",
                "  , MAX([icu_patients_per_million]) AS [icu_patients_per_million]\r\n",
                "  , MAX([hosp_patients]) AS [hosp_patients]\r\n",
                "  , MAX([hosp_patients_per_million]) AS [hosp_patients_per_million]\r\n",
                "  , MAX([weekly_icu_admissions]) AS [weekly_icu_admissions]\r\n",
                "  , MAX([weekly_icu_admissions_per_million]) AS [weekly_icu_admissions_per_million]\r\n",
                "  , MAX([weekly_hosp_admissions]) AS [weekly_hosp_admissions]\r\n",
                "  , MAX([weekly_hosp_admissions_per_million]) AS [weekly_hosp_admissions_per_million]\r\n",
                "  , MAX([new_tests]) AS [new_tests]\r\n",
                "  , MAX([total_tests]) AS [total_tests]\r\n",
                "  , MAX([total_tests_per_thousand]) AS [total_tests_per_thousand]\r\n",
                "  , MAX([new_tests_per_thousand]) AS [new_tests_per_thousand]\r\n",
                "  , MAX([new_tests_smoothed]) AS [new_tests_smoothed]\r\n",
                "  , MAX([new_tests_smoothed_per_thousand]) AS [new_tests_smoothed_per_thousand]\r\n",
                "  , MAX([positive_rate]) AS [positive_rate]\r\n",
                "  , MAX([total_vaccinations]) AS [total_vaccinations]\r\n",
                "  , MAX([people_vaccinated]) AS [people_vaccinated]\r\n",
                "  , MAX([people_fully_vaccinated]) AS [people_fully_vaccinated]\r\n",
                "  , MAX([total_vaccinations_per_hundred]) AS [total_vaccinations_per_hundred]\r\n",
                "  , MAX([people_vaccinated_per_hundred]) AS [people_vaccinated_per_hundred]\r\n",
                "  , MAX([people_fully_vaccinated_per_hundred]) AS [people_fully_vaccinated_per_hundred]\r\n",
                "  , MAX([stringency_index]) AS [stringency_index]\r\n",
                "  , MAX([population]) AS [population]\r\n",
                "  , MAX([population_density]) AS [population_density]\r\n",
                "  , MAX([median_age]) AS [median_age]\r\n",
                "  , MAX([aged_65_older]) AS [aged_65_older]\r\n",
                "  , MAX([aged_70_older]) AS [aged_70_older]\r\n",
                "  , MAX([gdp_per_capita]) AS [gdp_per_capita]\r\n",
                "  , MAX([extreme_poverty]) AS [extreme_poverty]\r\n",
                "  , MAX([cardiovasc_death_rate]) AS [cardiovasc_death_rate]\r\n",
                "  , MAX([diabetes_prevalence]) AS [diabetes_prevalence]\r\n",
                "  , MAX([female_smokers]) AS [female_smokers]\r\n",
                "  , MAX([male_smokers]) AS [male_smokers]\r\n",
                "  , MAX([handwashing_facilities]) AS [handwashing_facilities]\r\n",
                "  , MAX([hospital_beds_per_thousand]) AS [hospital_beds_per_thousand]\r\n",
                "  , MAX([life_expectancy]) AS [life_expectancy]\r\n",
                "  , MAX([human_development_index]) AS [human_development_index]\r\n",
                "  , MAX([excess_mortality]) AS [excess_mortality]\r\n",
                "INTO \r\n",
                "    [OwidCountriesData]\r\n",
                "FROM \r\n",
                "   [OwidCovid.Source]\r\n",
                "GROUP BY \r\n",
                "    [ContinentId]\r\n",
                "  , [CountriesId];"
            ],
            "metadata": {
                "azdata_cell_guid": "1e4ae48a-ccf7-4e60-9243-ad7152c4b589"
            },
            "outputs": [],
            "execution_count": null
        },
        {
            "cell_type": "markdown",
            "source": [
                "## Export to the table **Owid Covid Data**, the daily data of COVID cases and vaccinations"
            ],
            "metadata": {
                "azdata_cell_guid": "cbce1f65-3887-462c-a126-42ed0bf95d05"
            }
        },
        {
            "cell_type": "code",
            "source": [
                "SELECT \r\n",
                "    [ContinentId]\r\n",
                "  , [CountriesId]\r\n",
                "  , date\r\n",
                "  , [total_cases]\r\n",
                "  , [new_cases]\r\n",
                "  , [new_cases_smoothed]\r\n",
                "  , [total_deaths]\r\n",
                "  , [new_deaths]\r\n",
                "  , [new_deaths_smoothed]\r\n",
                "  , [total_cases_per_million]\r\n",
                "  , [new_cases_per_million]\r\n",
                "  , [new_cases_smoothed_per_million]\r\n",
                "  , [total_deaths_per_million]\r\n",
                "  , [new_deaths_per_million]\r\n",
                "  , [new_deaths_smoothed_per_million]\r\n",
                "  , [icu_patients]\r\n",
                "  , [icu_patients_per_million]\r\n",
                "  , [hosp_patients]\r\n",
                "  , [hosp_patients_per_million]\r\n",
                "  , [weekly_icu_admissions]\r\n",
                "  , [weekly_icu_admissions_per_million]\r\n",
                "  , [weekly_hosp_admissions]\r\n",
                "  , [weekly_hosp_admissions_per_million]\r\n",
                "  , [new_tests]\r\n",
                "  , [total_tests]\r\n",
                "  , [total_tests_per_thousand]\r\n",
                "  , [new_tests_per_thousand]\r\n",
                "  , [new_tests_smoothed]\r\n",
                "  , [new_tests_smoothed_per_thousand]\r\n",
                "  , [positive_rate]\r\n",
                "  , [tests_per_case]\r\n",
                "  , [tests_units]\r\n",
                "  , [total_vaccinations]\r\n",
                "  , [people_vaccinated]\r\n",
                "  , [people_fully_vaccinated]\r\n",
                "  , [new_vaccinations]\r\n",
                "  , [new_vaccinations_smoothed]\r\n",
                "  , [total_vaccinations_per_hundred]\r\n",
                "  , [people_vaccinated_per_hundred]\r\n",
                "  , [people_fully_vaccinated_per_hundred]\r\n",
                "  , [new_vaccinations_smoothed_per_million]\r\n",
                "INTO \r\n",
                "    [Owid Covid Data]\r\n",
                "FROM \r\n",
                "   [OwidCovid.Source];"
            ],
            "metadata": {
                "azdata_cell_guid": "57bc0f8e-6bc3-41c6-a35c-7bb1de62744e"
            },
            "outputs": [],
            "execution_count": null
        },
        {
            "cell_type": "markdown",
            "source": [
                "## Remove partial totals by continent, since they are not all of them\r\n",
                ""
            ],
            "metadata": {
                "azdata_cell_guid": "4ce0bc44-7b72-4a2f-a856-337a40618785"
            }
        },
        {
            "cell_type": "code",
            "source": [
                "DELETE \r\n",
                "FROM            OwidCountriesData\r\n",
                "WHERE        (CountriesId IS NULL)"
            ],
            "metadata": {
                "azdata_cell_guid": "f170e1c4-dab9-4141-9910-f30bf32c0df8"
            },
            "outputs": [],
            "execution_count": null
        },
        {
            "cell_type": "markdown",
            "source": [
                "## Remove intermediate processing tables"
            ],
            "metadata": {
                "azdata_cell_guid": "95c0a895-2fa7-4237-94dc-d511b382e215"
            }
        },
        {
            "cell_type": "code",
            "source": [
                "IF EXISTS\r\n",
                "(\r\n",
                "    SELECT \r\n",
                "        *\r\n",
                "    FROM \r\n",
                "       [sys].[objects]\r\n",
                "    WHERE object_id = OBJECT_ID(N'[dbo].[OwidCovid.Raw]')\r\n",
                "          AND [type] IN(N'U')\r\n",
                ")\r\n",
                "  BEGIN\r\n",
                "    DROP TABLE [dbo].[OwidCovid.Raw]\r\n",
                "  END;\r\n",
                "GO\r\n",
                "\r\n",
                "IF EXISTS\r\n",
                "(\r\n",
                "    SELECT \r\n",
                "        *\r\n",
                "    FROM \r\n",
                "       [sys].[objects]\r\n",
                "    WHERE object_id = OBJECT_ID(N'[dbo].[OwidCovid.Source]')\r\n",
                "          AND [type] IN(N'U')\r\n",
                ")\r\n",
                "  BEGIN\r\n",
                "    DROP TABLE [dbo].[OwidCovid.Source]\r\n",
                "  END;\r\n",
                "GO\r\n",
                "\r\n",
                ""
            ],
            "metadata": {
                "azdata_cell_guid": "5d9db3f0-0561-4822-b4a6-bf0de303deb3"
            },
            "outputs": [],
            "execution_count": null
        },
        {
            "cell_type": "markdown",
            "source": [
                "## Remove data from unidentified countries and continents (corresponds to totalized data)"
            ],
            "metadata": {
                "azdata_cell_guid": "d4c72215-c537-4af6-ac10-c2580fdf0159"
            }
        },
        {
            "cell_type": "code",
            "source": [
                "DELETE FROM            [Owid Covid Data]\r\n",
                "WHERE        (ContinentId IS NULL) OR\r\n",
                "                         (CountriesId IS NULL) OR (CountriesId=0)\r\n",
                "\r\n",
                "DELETE FROM            OwidCountriesData\r\n",
                "WHERE        (ContinentId IS NULL) OR\r\n",
                "                         (CountriesId IS NULL) OR (CountriesId=0)                         "
            ],
            "metadata": {
                "azdata_cell_guid": "f35b4d04-1b43-4552-95e0-8d8c1e9066c3"
            },
            "outputs": [],
            "execution_count": null
        },
        {
            "cell_type": "markdown",
            "source": [
                "## Add primary key to data tables\n",
                "\n",
                "(Not essential, but to improve implementation)"
            ],
            "metadata": {
                "azdata_cell_guid": "18b1037e-7546-44bb-a32a-c111ecd0d784"
            }
        },
        {
            "cell_type": "code",
            "source": [
                "BEGIN TRANSACTION\r\n",
                "GO\r\n",
                "ALTER TABLE dbo.[Owid Covid Data] ADD CONSTRAINT\r\n",
                "\t[PK_Owid Covid Data] PRIMARY KEY CLUSTERED \r\n",
                "\t(\r\n",
                "\tContinentId,\r\n",
                "\tCountriesId,\r\n",
                "\tdate\r\n",
                "\t) WITH( STATISTICS_NORECOMPUTE = OFF, IGNORE_DUP_KEY = OFF, ALLOW_ROW_LOCKS = ON, ALLOW_PAGE_LOCKS = ON) ON [PRIMARY]\r\n",
                "\r\n",
                "GO\r\n",
                "ALTER TABLE dbo.[Owid Covid Data] SET (LOCK_ESCALATION = TABLE)\r\n",
                "GO\r\n",
                "COMMIT\r\n",
                "BEGIN TRANSACTION\r\n",
                "GO\r\n",
                "ALTER TABLE dbo.OwidCountriesData ADD CONSTRAINT\r\n",
                "\tPK_OwidCountriesData PRIMARY KEY CLUSTERED \r\n",
                "\t(\r\n",
                "\tContinentId,\r\n",
                "\tCountriesId\r\n",
                "\t) WITH( STATISTICS_NORECOMPUTE = OFF, IGNORE_DUP_KEY = OFF, ALLOW_ROW_LOCKS = ON, ALLOW_PAGE_LOCKS = ON) ON [PRIMARY]\r\n",
                "\r\n",
                "GO\r\n",
                "ALTER TABLE dbo.OwidCountriesData SET (LOCK_ESCALATION = TABLE)\r\n",
                "GO\r\n",
                "COMMIT\r\n",
                ""
            ],
            "metadata": {
                "azdata_cell_guid": "672b9e1e-c0c1-48f3-9a55-6918705973f1"
            },
            "outputs": [],
            "execution_count": null
        },
        {
            "cell_type": "markdown",
            "source": [
                "## Define referential integrity between tables\r\n",
                ""
            ],
            "metadata": {
                "azdata_cell_guid": "de89a4cf-08ad-406d-8537-c69194199eb1"
            }
        },
        {
            "cell_type": "code",
            "source": [
                "\r\n",
                "BEGIN TRANSACTION;\r\n",
                "GO\r\n",
                "\r\n",
                "ALTER TABLE [dbo].[Countries] SET(LOCK_ESCALATION = TABLE);\r\n",
                "GO\r\n",
                "\r\n",
                "COMMIT;\r\n",
                "\r\n",
                "BEGIN TRANSACTION;\r\n",
                "GO\r\n",
                "\r\n",
                "ALTER TABLE [dbo].[Continents] SET(LOCK_ESCALATION = TABLE);\r\n",
                "GO\r\n",
                "\r\n",
                "COMMIT;\r\n",
                "\r\n",
                "BEGIN TRANSACTION;\r\n",
                "GO\r\n",
                "\r\n",
                "ALTER TABLE [dbo].[Owid Covid Data]\r\n",
                "ADD CONSTRAINT [FK_Owid Covid Data_Continents] FOREIGN KEY([ContinentId]) REFERENCES [dbo].[Continents](\r\n",
                "    [Id]) ON UPDATE NO ACTION ON DELETE NO ACTION;\r\n",
                "GO\r\n",
                "\r\n",
                "ALTER TABLE [dbo].[Owid Covid Data]\r\n",
                "ADD CONSTRAINT [FK_Owid Covid Data_Countries] FOREIGN KEY([CountriesId]) REFERENCES [dbo].[Countries](\r\n",
                "    [Id]) ON UPDATE NO ACTION ON DELETE NO ACTION;\r\n",
                "GO\r\n",
                "\r\n",
                "ALTER TABLE [dbo].[Owid Covid Data] SET(LOCK_ESCALATION = TABLE);\r\n",
                "GO\r\n",
                "\r\n",
                "COMMIT;\r\n",
                "\r\n",
                "BEGIN TRANSACTION;\r\n",
                "GO\r\n",
                "\r\n",
                "ALTER TABLE [dbo].[OwidCountriesData]\r\n",
                "ADD CONSTRAINT [FK_OwidCountriesData_Continents] FOREIGN KEY([ContinentId]) REFERENCES [dbo].[Continents](\r\n",
                "    [Id]) ON UPDATE NO ACTION ON DELETE NO ACTION;\r\n",
                "GO\r\n",
                "\r\n",
                "ALTER TABLE [dbo].[OwidCountriesData]\r\n",
                "ADD CONSTRAINT [FK_OwidCountriesData_Countries] FOREIGN KEY([CountriesId]) REFERENCES [dbo].[Countries](\r\n",
                "    [Id]) ON UPDATE NO ACTION ON DELETE NO ACTION;\r\n",
                "GO\r\n",
                "\r\n",
                "ALTER TABLE [dbo].[OwidCountriesData] SET(LOCK_ESCALATION = TABLE);\r\n",
                "GO\r\n",
                "\r\n",
                "COMMIT;\r\n",
                "BEGIN TRANSACTION;\r\n",
                "GO\r\n",
                "\r\n",
                "ALTER TABLE [dbo].[Continents] SET(LOCK_ESCALATION = TABLE);\r\n",
                "GO\r\n",
                "\r\n",
                "COMMIT;\r\n",
                "\r\n",
                "BEGIN TRANSACTION;\r\n",
                "GO\r\n",
                "\r\n",
                "ALTER TABLE [dbo].[Countries]\r\n",
                "ADD CONSTRAINT [FK_Countries_Continents] FOREIGN KEY([ContinentId]) REFERENCES [dbo].[Continents](\r\n",
                "    [Id]) ON UPDATE NO ACTION ON DELETE NO ACTION;\r\n",
                "GO\r\n",
                "\r\n",
                "ALTER TABLE [dbo].[Countries] SET(LOCK_ESCALATION = TABLE);\r\n",
                "GO\r\n",
                "\r\n",
                "COMMIT;"
            ],
            "metadata": {
                "azdata_cell_guid": "6ab0d30d-e77a-4586-970d-3c0599ffa0bb"
            },
            "outputs": [],
            "execution_count": null
        },
        {
            "cell_type": "markdown",
            "source": [
                "## Final schema.\n",
                "\n",
                "\n",
                "![Schema](https://universidadnetdotes.files.wordpress.com/2021/06/demosdbschema.png)"
            ],
            "metadata": {
                "azdata_cell_guid": "6678ceca-027a-429c-99e9-d850d093a449"
            }
        }
    ]
}